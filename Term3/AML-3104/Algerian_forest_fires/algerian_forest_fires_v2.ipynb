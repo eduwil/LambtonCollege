{
 "cells": [
  {
   "cell_type": "markdown",
   "metadata": {},
   "source": [
    "**Name: EDUARDO WILLIAMS C.**\n",
    "\n",
    "**Student Code: C0896405**\n",
    "\n",
    "**Date: June 6, 2024**"
   ]
  },
  {
   "cell_type": "code",
   "execution_count": 262,
   "metadata": {},
   "outputs": [],
   "source": [
    "# importing libraries\n",
    "import pandas  as pd\n",
    "import numpy   as np\n",
    "import seaborn as sns\n",
    "import joblib\n",
    "\n",
    "from matplotlib              import pyplot as plt\n",
    "from sklearn.metrics         import r2_score, mean_absolute_error, mean_squared_error\n",
    "from sklearn.linear_model    import LinearRegression, Ridge, Lasso, ElasticNet\n",
    "from sklearn.preprocessing   import PolynomialFeatures, StandardScaler\n",
    "from sklearn.model_selection import train_test_split, cross_val_score, GridSearchCV\n",
    "\n",
    "import warnings\n",
    "warnings.filterwarnings('ignore')"
   ]
  },
  {
   "cell_type": "code",
   "execution_count": 263,
   "metadata": {},
   "outputs": [],
   "source": [
    "# loading the dataset\n",
    "df = pd.read_csv(\"Algerian_forest_fires_cleaned.csv\")"
   ]
  },
  {
   "cell_type": "markdown",
   "metadata": {},
   "source": [
    "**DATA WRANGLING**"
   ]
  },
  {
   "cell_type": "code",
   "execution_count": 264,
   "metadata": {},
   "outputs": [
    {
     "name": "stdout",
     "output_type": "stream",
     "text": [
      "<class 'pandas.core.frame.DataFrame'>\n",
      "RangeIndex: 243 entries, 0 to 242\n",
      "Data columns (total 15 columns):\n",
      " #   Column       Non-Null Count  Dtype  \n",
      "---  ------       --------------  -----  \n",
      " 0   day          243 non-null    int64  \n",
      " 1   month        243 non-null    int64  \n",
      " 2   year         243 non-null    int64  \n",
      " 3   Temperature  243 non-null    int64  \n",
      " 4   RH           243 non-null    int64  \n",
      " 5   Ws           243 non-null    int64  \n",
      " 6   Rain         243 non-null    float64\n",
      " 7   FFMC         243 non-null    float64\n",
      " 8   DMC          243 non-null    float64\n",
      " 9   DC           243 non-null    float64\n",
      " 10  ISI          243 non-null    float64\n",
      " 11  BUI          243 non-null    float64\n",
      " 12  FWI          243 non-null    float64\n",
      " 13  Classes      243 non-null    object \n",
      " 14  Region       243 non-null    int64  \n",
      "dtypes: float64(7), int64(7), object(1)\n",
      "memory usage: 28.6+ KB\n"
     ]
    }
   ],
   "source": [
    "# identifying columns and datatypes\n",
    "df.info()"
   ]
  },
  {
   "cell_type": "code",
   "execution_count": 265,
   "metadata": {},
   "outputs": [
    {
     "data": {
      "text/html": [
       "<div>\n",
       "<style scoped>\n",
       "    .dataframe tbody tr th:only-of-type {\n",
       "        vertical-align: middle;\n",
       "    }\n",
       "\n",
       "    .dataframe tbody tr th {\n",
       "        vertical-align: top;\n",
       "    }\n",
       "\n",
       "    .dataframe thead th {\n",
       "        text-align: right;\n",
       "    }\n",
       "</style>\n",
       "<table border=\"1\" class=\"dataframe\">\n",
       "  <thead>\n",
       "    <tr style=\"text-align: right;\">\n",
       "      <th></th>\n",
       "      <th>day</th>\n",
       "      <th>month</th>\n",
       "      <th>year</th>\n",
       "      <th>Temperature</th>\n",
       "      <th>RH</th>\n",
       "      <th>Ws</th>\n",
       "      <th>Rain</th>\n",
       "      <th>FFMC</th>\n",
       "      <th>DMC</th>\n",
       "      <th>DC</th>\n",
       "      <th>ISI</th>\n",
       "      <th>BUI</th>\n",
       "      <th>FWI</th>\n",
       "      <th>Classes</th>\n",
       "      <th>Region</th>\n",
       "    </tr>\n",
       "  </thead>\n",
       "  <tbody>\n",
       "    <tr>\n",
       "      <th>0</th>\n",
       "      <td>1</td>\n",
       "      <td>6</td>\n",
       "      <td>2012</td>\n",
       "      <td>29</td>\n",
       "      <td>57</td>\n",
       "      <td>18</td>\n",
       "      <td>0.0</td>\n",
       "      <td>65.7</td>\n",
       "      <td>3.4</td>\n",
       "      <td>7.6</td>\n",
       "      <td>1.3</td>\n",
       "      <td>3.4</td>\n",
       "      <td>0.5</td>\n",
       "      <td>not fire</td>\n",
       "      <td>0</td>\n",
       "    </tr>\n",
       "    <tr>\n",
       "      <th>1</th>\n",
       "      <td>2</td>\n",
       "      <td>6</td>\n",
       "      <td>2012</td>\n",
       "      <td>29</td>\n",
       "      <td>61</td>\n",
       "      <td>13</td>\n",
       "      <td>1.3</td>\n",
       "      <td>64.4</td>\n",
       "      <td>4.1</td>\n",
       "      <td>7.6</td>\n",
       "      <td>1.0</td>\n",
       "      <td>3.9</td>\n",
       "      <td>0.4</td>\n",
       "      <td>not fire</td>\n",
       "      <td>0</td>\n",
       "    </tr>\n",
       "    <tr>\n",
       "      <th>2</th>\n",
       "      <td>3</td>\n",
       "      <td>6</td>\n",
       "      <td>2012</td>\n",
       "      <td>26</td>\n",
       "      <td>82</td>\n",
       "      <td>22</td>\n",
       "      <td>13.1</td>\n",
       "      <td>47.1</td>\n",
       "      <td>2.5</td>\n",
       "      <td>7.1</td>\n",
       "      <td>0.3</td>\n",
       "      <td>2.7</td>\n",
       "      <td>0.1</td>\n",
       "      <td>not fire</td>\n",
       "      <td>0</td>\n",
       "    </tr>\n",
       "    <tr>\n",
       "      <th>3</th>\n",
       "      <td>4</td>\n",
       "      <td>6</td>\n",
       "      <td>2012</td>\n",
       "      <td>25</td>\n",
       "      <td>89</td>\n",
       "      <td>13</td>\n",
       "      <td>2.5</td>\n",
       "      <td>28.6</td>\n",
       "      <td>1.3</td>\n",
       "      <td>6.9</td>\n",
       "      <td>0.0</td>\n",
       "      <td>1.7</td>\n",
       "      <td>0.0</td>\n",
       "      <td>not fire</td>\n",
       "      <td>0</td>\n",
       "    </tr>\n",
       "    <tr>\n",
       "      <th>4</th>\n",
       "      <td>5</td>\n",
       "      <td>6</td>\n",
       "      <td>2012</td>\n",
       "      <td>27</td>\n",
       "      <td>77</td>\n",
       "      <td>16</td>\n",
       "      <td>0.0</td>\n",
       "      <td>64.8</td>\n",
       "      <td>3.0</td>\n",
       "      <td>14.2</td>\n",
       "      <td>1.2</td>\n",
       "      <td>3.9</td>\n",
       "      <td>0.5</td>\n",
       "      <td>not fire</td>\n",
       "      <td>0</td>\n",
       "    </tr>\n",
       "    <tr>\n",
       "      <th>...</th>\n",
       "      <td>...</td>\n",
       "      <td>...</td>\n",
       "      <td>...</td>\n",
       "      <td>...</td>\n",
       "      <td>...</td>\n",
       "      <td>...</td>\n",
       "      <td>...</td>\n",
       "      <td>...</td>\n",
       "      <td>...</td>\n",
       "      <td>...</td>\n",
       "      <td>...</td>\n",
       "      <td>...</td>\n",
       "      <td>...</td>\n",
       "      <td>...</td>\n",
       "      <td>...</td>\n",
       "    </tr>\n",
       "    <tr>\n",
       "      <th>95</th>\n",
       "      <td>4</td>\n",
       "      <td>9</td>\n",
       "      <td>2012</td>\n",
       "      <td>29</td>\n",
       "      <td>73</td>\n",
       "      <td>17</td>\n",
       "      <td>0.1</td>\n",
       "      <td>68.4</td>\n",
       "      <td>1.9</td>\n",
       "      <td>15.7</td>\n",
       "      <td>1.4</td>\n",
       "      <td>2.9</td>\n",
       "      <td>0.5</td>\n",
       "      <td>not fire</td>\n",
       "      <td>0</td>\n",
       "    </tr>\n",
       "    <tr>\n",
       "      <th>96</th>\n",
       "      <td>5</td>\n",
       "      <td>9</td>\n",
       "      <td>2012</td>\n",
       "      <td>29</td>\n",
       "      <td>75</td>\n",
       "      <td>16</td>\n",
       "      <td>0.0</td>\n",
       "      <td>80.8</td>\n",
       "      <td>3.4</td>\n",
       "      <td>24.0</td>\n",
       "      <td>2.8</td>\n",
       "      <td>5.1</td>\n",
       "      <td>1.7</td>\n",
       "      <td>fire</td>\n",
       "      <td>0</td>\n",
       "    </tr>\n",
       "    <tr>\n",
       "      <th>97</th>\n",
       "      <td>6</td>\n",
       "      <td>9</td>\n",
       "      <td>2012</td>\n",
       "      <td>29</td>\n",
       "      <td>74</td>\n",
       "      <td>19</td>\n",
       "      <td>0.1</td>\n",
       "      <td>75.8</td>\n",
       "      <td>3.6</td>\n",
       "      <td>32.2</td>\n",
       "      <td>2.1</td>\n",
       "      <td>5.6</td>\n",
       "      <td>0.9</td>\n",
       "      <td>not fire</td>\n",
       "      <td>0</td>\n",
       "    </tr>\n",
       "    <tr>\n",
       "      <th>98</th>\n",
       "      <td>7</td>\n",
       "      <td>9</td>\n",
       "      <td>2012</td>\n",
       "      <td>31</td>\n",
       "      <td>71</td>\n",
       "      <td>17</td>\n",
       "      <td>0.3</td>\n",
       "      <td>69.6</td>\n",
       "      <td>3.2</td>\n",
       "      <td>30.1</td>\n",
       "      <td>1.5</td>\n",
       "      <td>5.1</td>\n",
       "      <td>0.6</td>\n",
       "      <td>not fire</td>\n",
       "      <td>0</td>\n",
       "    </tr>\n",
       "    <tr>\n",
       "      <th>99</th>\n",
       "      <td>8</td>\n",
       "      <td>9</td>\n",
       "      <td>2012</td>\n",
       "      <td>30</td>\n",
       "      <td>73</td>\n",
       "      <td>17</td>\n",
       "      <td>0.9</td>\n",
       "      <td>62.0</td>\n",
       "      <td>2.6</td>\n",
       "      <td>8.4</td>\n",
       "      <td>1.1</td>\n",
       "      <td>3.0</td>\n",
       "      <td>0.4</td>\n",
       "      <td>not fire</td>\n",
       "      <td>0</td>\n",
       "    </tr>\n",
       "  </tbody>\n",
       "</table>\n",
       "<p>100 rows × 15 columns</p>\n",
       "</div>"
      ],
      "text/plain": [
       "    day  month  year  Temperature  RH  Ws  Rain  FFMC  DMC    DC  ISI  BUI  \\\n",
       "0     1      6  2012           29  57  18   0.0  65.7  3.4   7.6  1.3  3.4   \n",
       "1     2      6  2012           29  61  13   1.3  64.4  4.1   7.6  1.0  3.9   \n",
       "2     3      6  2012           26  82  22  13.1  47.1  2.5   7.1  0.3  2.7   \n",
       "3     4      6  2012           25  89  13   2.5  28.6  1.3   6.9  0.0  1.7   \n",
       "4     5      6  2012           27  77  16   0.0  64.8  3.0  14.2  1.2  3.9   \n",
       "..  ...    ...   ...          ...  ..  ..   ...   ...  ...   ...  ...  ...   \n",
       "95    4      9  2012           29  73  17   0.1  68.4  1.9  15.7  1.4  2.9   \n",
       "96    5      9  2012           29  75  16   0.0  80.8  3.4  24.0  2.8  5.1   \n",
       "97    6      9  2012           29  74  19   0.1  75.8  3.6  32.2  2.1  5.6   \n",
       "98    7      9  2012           31  71  17   0.3  69.6  3.2  30.1  1.5  5.1   \n",
       "99    8      9  2012           30  73  17   0.9  62.0  2.6   8.4  1.1  3.0   \n",
       "\n",
       "    FWI      Classes  Region  \n",
       "0   0.5  not fire          0  \n",
       "1   0.4  not fire          0  \n",
       "2   0.1  not fire          0  \n",
       "3   0.0  not fire          0  \n",
       "4   0.5  not fire          0  \n",
       "..  ...          ...     ...  \n",
       "95  0.5  not fire          0  \n",
       "96  1.7      fire          0  \n",
       "97  0.9  not fire          0  \n",
       "98  0.6  not fire          0  \n",
       "99  0.4  not fire          0  \n",
       "\n",
       "[100 rows x 15 columns]"
      ]
     },
     "execution_count": 265,
     "metadata": {},
     "output_type": "execute_result"
    }
   ],
   "source": [
    "# checking out the data\n",
    "df.head(100)"
   ]
  },
  {
   "cell_type": "code",
   "execution_count": 266,
   "metadata": {},
   "outputs": [
    {
     "data": {
      "text/plain": [
       "(243, 15)"
      ]
     },
     "execution_count": 266,
     "metadata": {},
     "output_type": "execute_result"
    }
   ],
   "source": [
    "# verifying shape\n",
    "df.shape"
   ]
  },
  {
   "cell_type": "code",
   "execution_count": 267,
   "metadata": {},
   "outputs": [],
   "source": [
    "# removing duplicate rows\n",
    "df.drop_duplicates(keep='first', inplace=True)"
   ]
  },
  {
   "cell_type": "code",
   "execution_count": 268,
   "metadata": {},
   "outputs": [
    {
     "data": {
      "text/plain": [
       "array([2012], dtype=int64)"
      ]
     },
     "execution_count": 268,
     "metadata": {},
     "output_type": "execute_result"
    }
   ],
   "source": [
    "# verifying year column\n",
    "df['year'].unique()"
   ]
  },
  {
   "cell_type": "code",
   "execution_count": 269,
   "metadata": {},
   "outputs": [],
   "source": [
    "# deleting year column since it contain the same value for whole dataset\n",
    "df.drop('year', axis=1, inplace=True)"
   ]
  },
  {
   "cell_type": "code",
   "execution_count": 270,
   "metadata": {},
   "outputs": [
    {
     "data": {
      "text/plain": [
       "day            0\n",
       "month          0\n",
       "Temperature    0\n",
       "RH             0\n",
       "Ws             0\n",
       "Rain           0\n",
       "FFMC           0\n",
       "DMC            0\n",
       "DC             0\n",
       "ISI            0\n",
       "BUI            0\n",
       "FWI            0\n",
       "Classes        0\n",
       "Region         0\n",
       "dtype: int64"
      ]
     },
     "execution_count": 270,
     "metadata": {},
     "output_type": "execute_result"
    }
   ],
   "source": [
    "# looking for null values\n",
    "df.isna().sum()"
   ]
  },
  {
   "cell_type": "code",
   "execution_count": 271,
   "metadata": {},
   "outputs": [
    {
     "data": {
      "text/plain": [
       "(243, 14)"
      ]
     },
     "execution_count": 271,
     "metadata": {},
     "output_type": "execute_result"
    }
   ],
   "source": [
    "# verifying new shape\n",
    "df.shape"
   ]
  },
  {
   "cell_type": "markdown",
   "metadata": {},
   "source": [
    "**ENCODING**"
   ]
  },
  {
   "cell_type": "code",
   "execution_count": 272,
   "metadata": {},
   "outputs": [
    {
     "data": {
      "text/plain": [
       "array(['not fire   ', 'fire   ', 'fire', 'fire ', 'not fire', 'not fire ',\n",
       "       'not fire     ', 'not fire    '], dtype=object)"
      ]
     },
     "execution_count": 272,
     "metadata": {},
     "output_type": "execute_result"
    }
   ],
   "source": [
    "# verifying classes column\n",
    "df['Classes'].unique()"
   ]
  },
  {
   "cell_type": "code",
   "execution_count": 273,
   "metadata": {},
   "outputs": [],
   "source": [
    "# deleting blank spaces\n",
    "df['Classes'] = df['Classes'].str.strip()"
   ]
  },
  {
   "cell_type": "code",
   "execution_count": 274,
   "metadata": {},
   "outputs": [
    {
     "data": {
      "text/plain": [
       "array(['not fire', 'fire'], dtype=object)"
      ]
     },
     "execution_count": 274,
     "metadata": {},
     "output_type": "execute_result"
    }
   ],
   "source": [
    "# verifying classes column\n",
    "df['Classes'].unique()"
   ]
  },
  {
   "cell_type": "code",
   "execution_count": 275,
   "metadata": {},
   "outputs": [],
   "source": [
    "# encoding Classes column\n",
    "df['Classes'] = df['Classes'].map({'fire': 1, 'not fire': 0}).astype(int)"
   ]
  },
  {
   "cell_type": "code",
   "execution_count": 276,
   "metadata": {},
   "outputs": [
    {
     "data": {
      "text/html": [
       "<div>\n",
       "<style scoped>\n",
       "    .dataframe tbody tr th:only-of-type {\n",
       "        vertical-align: middle;\n",
       "    }\n",
       "\n",
       "    .dataframe tbody tr th {\n",
       "        vertical-align: top;\n",
       "    }\n",
       "\n",
       "    .dataframe thead th {\n",
       "        text-align: right;\n",
       "    }\n",
       "</style>\n",
       "<table border=\"1\" class=\"dataframe\">\n",
       "  <thead>\n",
       "    <tr style=\"text-align: right;\">\n",
       "      <th></th>\n",
       "      <th>day</th>\n",
       "      <th>month</th>\n",
       "      <th>Temperature</th>\n",
       "      <th>RH</th>\n",
       "      <th>Ws</th>\n",
       "      <th>Rain</th>\n",
       "      <th>FFMC</th>\n",
       "      <th>DMC</th>\n",
       "      <th>DC</th>\n",
       "      <th>ISI</th>\n",
       "      <th>BUI</th>\n",
       "      <th>FWI</th>\n",
       "      <th>Classes</th>\n",
       "      <th>Region</th>\n",
       "    </tr>\n",
       "  </thead>\n",
       "  <tbody>\n",
       "    <tr>\n",
       "      <th>0</th>\n",
       "      <td>1</td>\n",
       "      <td>6</td>\n",
       "      <td>29</td>\n",
       "      <td>57</td>\n",
       "      <td>18</td>\n",
       "      <td>0.0</td>\n",
       "      <td>65.7</td>\n",
       "      <td>3.4</td>\n",
       "      <td>7.6</td>\n",
       "      <td>1.3</td>\n",
       "      <td>3.4</td>\n",
       "      <td>0.5</td>\n",
       "      <td>0</td>\n",
       "      <td>0</td>\n",
       "    </tr>\n",
       "    <tr>\n",
       "      <th>1</th>\n",
       "      <td>2</td>\n",
       "      <td>6</td>\n",
       "      <td>29</td>\n",
       "      <td>61</td>\n",
       "      <td>13</td>\n",
       "      <td>1.3</td>\n",
       "      <td>64.4</td>\n",
       "      <td>4.1</td>\n",
       "      <td>7.6</td>\n",
       "      <td>1.0</td>\n",
       "      <td>3.9</td>\n",
       "      <td>0.4</td>\n",
       "      <td>0</td>\n",
       "      <td>0</td>\n",
       "    </tr>\n",
       "    <tr>\n",
       "      <th>2</th>\n",
       "      <td>3</td>\n",
       "      <td>6</td>\n",
       "      <td>26</td>\n",
       "      <td>82</td>\n",
       "      <td>22</td>\n",
       "      <td>13.1</td>\n",
       "      <td>47.1</td>\n",
       "      <td>2.5</td>\n",
       "      <td>7.1</td>\n",
       "      <td>0.3</td>\n",
       "      <td>2.7</td>\n",
       "      <td>0.1</td>\n",
       "      <td>0</td>\n",
       "      <td>0</td>\n",
       "    </tr>\n",
       "    <tr>\n",
       "      <th>3</th>\n",
       "      <td>4</td>\n",
       "      <td>6</td>\n",
       "      <td>25</td>\n",
       "      <td>89</td>\n",
       "      <td>13</td>\n",
       "      <td>2.5</td>\n",
       "      <td>28.6</td>\n",
       "      <td>1.3</td>\n",
       "      <td>6.9</td>\n",
       "      <td>0.0</td>\n",
       "      <td>1.7</td>\n",
       "      <td>0.0</td>\n",
       "      <td>0</td>\n",
       "      <td>0</td>\n",
       "    </tr>\n",
       "    <tr>\n",
       "      <th>4</th>\n",
       "      <td>5</td>\n",
       "      <td>6</td>\n",
       "      <td>27</td>\n",
       "      <td>77</td>\n",
       "      <td>16</td>\n",
       "      <td>0.0</td>\n",
       "      <td>64.8</td>\n",
       "      <td>3.0</td>\n",
       "      <td>14.2</td>\n",
       "      <td>1.2</td>\n",
       "      <td>3.9</td>\n",
       "      <td>0.5</td>\n",
       "      <td>0</td>\n",
       "      <td>0</td>\n",
       "    </tr>\n",
       "  </tbody>\n",
       "</table>\n",
       "</div>"
      ],
      "text/plain": [
       "   day  month  Temperature  RH  Ws  Rain  FFMC  DMC    DC  ISI  BUI  FWI  \\\n",
       "0    1      6           29  57  18   0.0  65.7  3.4   7.6  1.3  3.4  0.5   \n",
       "1    2      6           29  61  13   1.3  64.4  4.1   7.6  1.0  3.9  0.4   \n",
       "2    3      6           26  82  22  13.1  47.1  2.5   7.1  0.3  2.7  0.1   \n",
       "3    4      6           25  89  13   2.5  28.6  1.3   6.9  0.0  1.7  0.0   \n",
       "4    5      6           27  77  16   0.0  64.8  3.0  14.2  1.2  3.9  0.5   \n",
       "\n",
       "   Classes  Region  \n",
       "0        0       0  \n",
       "1        0       0  \n",
       "2        0       0  \n",
       "3        0       0  \n",
       "4        0       0  "
      ]
     },
     "execution_count": 276,
     "metadata": {},
     "output_type": "execute_result"
    }
   ],
   "source": [
    "# checking out new data\n",
    "df.head()"
   ]
  },
  {
   "cell_type": "code",
   "execution_count": 277,
   "metadata": {},
   "outputs": [],
   "source": [
    "# converting datatypes\n",
    "df['day']         = df['day'].astype('float64')\n",
    "df['month']       = df['month'].astype('float64')\n",
    "df['Temperature'] = df['Temperature'].astype('float64')\n",
    "df['RH']          = df['RH'].astype('float64')\n",
    "df['Ws']          = df['Ws'].astype('float64')\n",
    "df['Classes']     = df['Classes'].astype('float64')\n",
    "df['Region']      = df['Region'].astype('float64')"
   ]
  },
  {
   "cell_type": "code",
   "execution_count": 278,
   "metadata": {},
   "outputs": [
    {
     "name": "stdout",
     "output_type": "stream",
     "text": [
      "<class 'pandas.core.frame.DataFrame'>\n",
      "RangeIndex: 243 entries, 0 to 242\n",
      "Data columns (total 14 columns):\n",
      " #   Column       Non-Null Count  Dtype  \n",
      "---  ------       --------------  -----  \n",
      " 0   day          243 non-null    float64\n",
      " 1   month        243 non-null    float64\n",
      " 2   Temperature  243 non-null    float64\n",
      " 3   RH           243 non-null    float64\n",
      " 4   Ws           243 non-null    float64\n",
      " 5   Rain         243 non-null    float64\n",
      " 6   FFMC         243 non-null    float64\n",
      " 7   DMC          243 non-null    float64\n",
      " 8   DC           243 non-null    float64\n",
      " 9   ISI          243 non-null    float64\n",
      " 10  BUI          243 non-null    float64\n",
      " 11  FWI          243 non-null    float64\n",
      " 12  Classes      243 non-null    float64\n",
      " 13  Region       243 non-null    float64\n",
      "dtypes: float64(14)\n",
      "memory usage: 26.7 KB\n"
     ]
    }
   ],
   "source": [
    "# verifying the new dataset structure\n",
    "df.info()"
   ]
  },
  {
   "cell_type": "markdown",
   "metadata": {},
   "source": [
    "**DATA VISUALIZATION**"
   ]
  },
  {
   "cell_type": "code",
   "execution_count": 279,
   "metadata": {},
   "outputs": [
    {
     "data": {
      "text/html": [
       "<div>\n",
       "<style scoped>\n",
       "    .dataframe tbody tr th:only-of-type {\n",
       "        vertical-align: middle;\n",
       "    }\n",
       "\n",
       "    .dataframe tbody tr th {\n",
       "        vertical-align: top;\n",
       "    }\n",
       "\n",
       "    .dataframe thead th {\n",
       "        text-align: right;\n",
       "    }\n",
       "</style>\n",
       "<table border=\"1\" class=\"dataframe\">\n",
       "  <thead>\n",
       "    <tr style=\"text-align: right;\">\n",
       "      <th></th>\n",
       "      <th>day</th>\n",
       "      <th>month</th>\n",
       "      <th>Temperature</th>\n",
       "      <th>RH</th>\n",
       "      <th>Ws</th>\n",
       "      <th>Rain</th>\n",
       "      <th>FFMC</th>\n",
       "      <th>DMC</th>\n",
       "      <th>DC</th>\n",
       "      <th>ISI</th>\n",
       "      <th>BUI</th>\n",
       "      <th>FWI</th>\n",
       "      <th>Classes</th>\n",
       "      <th>Region</th>\n",
       "    </tr>\n",
       "  </thead>\n",
       "  <tbody>\n",
       "    <tr>\n",
       "      <th>day</th>\n",
       "      <td>1.000000</td>\n",
       "      <td>-0.000369</td>\n",
       "      <td>0.097227</td>\n",
       "      <td>-0.076034</td>\n",
       "      <td>0.047812</td>\n",
       "      <td>-0.112523</td>\n",
       "      <td>0.224956</td>\n",
       "      <td>0.491514</td>\n",
       "      <td>0.527952</td>\n",
       "      <td>0.180543</td>\n",
       "      <td>0.517117</td>\n",
       "      <td>0.350781</td>\n",
       "      <td>0.202840</td>\n",
       "      <td>0.000821</td>\n",
       "    </tr>\n",
       "    <tr>\n",
       "      <th>month</th>\n",
       "      <td>-0.000369</td>\n",
       "      <td>1.000000</td>\n",
       "      <td>-0.056781</td>\n",
       "      <td>-0.041252</td>\n",
       "      <td>-0.039880</td>\n",
       "      <td>0.034822</td>\n",
       "      <td>0.017030</td>\n",
       "      <td>0.067943</td>\n",
       "      <td>0.126511</td>\n",
       "      <td>0.065608</td>\n",
       "      <td>0.085073</td>\n",
       "      <td>0.082639</td>\n",
       "      <td>0.024004</td>\n",
       "      <td>0.001857</td>\n",
       "    </tr>\n",
       "    <tr>\n",
       "      <th>Temperature</th>\n",
       "      <td>0.097227</td>\n",
       "      <td>-0.056781</td>\n",
       "      <td>1.000000</td>\n",
       "      <td>-0.651400</td>\n",
       "      <td>-0.284510</td>\n",
       "      <td>-0.326492</td>\n",
       "      <td>0.676568</td>\n",
       "      <td>0.485687</td>\n",
       "      <td>0.376284</td>\n",
       "      <td>0.603871</td>\n",
       "      <td>0.459789</td>\n",
       "      <td>0.566670</td>\n",
       "      <td>0.516015</td>\n",
       "      <td>0.269555</td>\n",
       "    </tr>\n",
       "    <tr>\n",
       "      <th>RH</th>\n",
       "      <td>-0.076034</td>\n",
       "      <td>-0.041252</td>\n",
       "      <td>-0.651400</td>\n",
       "      <td>1.000000</td>\n",
       "      <td>0.244048</td>\n",
       "      <td>0.222356</td>\n",
       "      <td>-0.644873</td>\n",
       "      <td>-0.408519</td>\n",
       "      <td>-0.226941</td>\n",
       "      <td>-0.686667</td>\n",
       "      <td>-0.353841</td>\n",
       "      <td>-0.580957</td>\n",
       "      <td>-0.432161</td>\n",
       "      <td>-0.402682</td>\n",
       "    </tr>\n",
       "    <tr>\n",
       "      <th>Ws</th>\n",
       "      <td>0.047812</td>\n",
       "      <td>-0.039880</td>\n",
       "      <td>-0.284510</td>\n",
       "      <td>0.244048</td>\n",
       "      <td>1.000000</td>\n",
       "      <td>0.171506</td>\n",
       "      <td>-0.166548</td>\n",
       "      <td>-0.000721</td>\n",
       "      <td>0.079135</td>\n",
       "      <td>0.008532</td>\n",
       "      <td>0.031438</td>\n",
       "      <td>0.032368</td>\n",
       "      <td>-0.069964</td>\n",
       "      <td>-0.181160</td>\n",
       "    </tr>\n",
       "    <tr>\n",
       "      <th>Rain</th>\n",
       "      <td>-0.112523</td>\n",
       "      <td>0.034822</td>\n",
       "      <td>-0.326492</td>\n",
       "      <td>0.222356</td>\n",
       "      <td>0.171506</td>\n",
       "      <td>1.000000</td>\n",
       "      <td>-0.543906</td>\n",
       "      <td>-0.288773</td>\n",
       "      <td>-0.298023</td>\n",
       "      <td>-0.347484</td>\n",
       "      <td>-0.299852</td>\n",
       "      <td>-0.324422</td>\n",
       "      <td>-0.379097</td>\n",
       "      <td>-0.040013</td>\n",
       "    </tr>\n",
       "    <tr>\n",
       "      <th>FFMC</th>\n",
       "      <td>0.224956</td>\n",
       "      <td>0.017030</td>\n",
       "      <td>0.676568</td>\n",
       "      <td>-0.644873</td>\n",
       "      <td>-0.166548</td>\n",
       "      <td>-0.543906</td>\n",
       "      <td>1.000000</td>\n",
       "      <td>0.603608</td>\n",
       "      <td>0.507397</td>\n",
       "      <td>0.740007</td>\n",
       "      <td>0.592011</td>\n",
       "      <td>0.691132</td>\n",
       "      <td>0.769492</td>\n",
       "      <td>0.222241</td>\n",
       "    </tr>\n",
       "    <tr>\n",
       "      <th>DMC</th>\n",
       "      <td>0.491514</td>\n",
       "      <td>0.067943</td>\n",
       "      <td>0.485687</td>\n",
       "      <td>-0.408519</td>\n",
       "      <td>-0.000721</td>\n",
       "      <td>-0.288773</td>\n",
       "      <td>0.603608</td>\n",
       "      <td>1.000000</td>\n",
       "      <td>0.875925</td>\n",
       "      <td>0.680454</td>\n",
       "      <td>0.982248</td>\n",
       "      <td>0.875864</td>\n",
       "      <td>0.585658</td>\n",
       "      <td>0.192089</td>\n",
       "    </tr>\n",
       "    <tr>\n",
       "      <th>DC</th>\n",
       "      <td>0.527952</td>\n",
       "      <td>0.126511</td>\n",
       "      <td>0.376284</td>\n",
       "      <td>-0.226941</td>\n",
       "      <td>0.079135</td>\n",
       "      <td>-0.298023</td>\n",
       "      <td>0.507397</td>\n",
       "      <td>0.875925</td>\n",
       "      <td>1.000000</td>\n",
       "      <td>0.508643</td>\n",
       "      <td>0.941988</td>\n",
       "      <td>0.739521</td>\n",
       "      <td>0.511123</td>\n",
       "      <td>-0.078734</td>\n",
       "    </tr>\n",
       "    <tr>\n",
       "      <th>ISI</th>\n",
       "      <td>0.180543</td>\n",
       "      <td>0.065608</td>\n",
       "      <td>0.603871</td>\n",
       "      <td>-0.686667</td>\n",
       "      <td>0.008532</td>\n",
       "      <td>-0.347484</td>\n",
       "      <td>0.740007</td>\n",
       "      <td>0.680454</td>\n",
       "      <td>0.508643</td>\n",
       "      <td>1.000000</td>\n",
       "      <td>0.644093</td>\n",
       "      <td>0.922895</td>\n",
       "      <td>0.735197</td>\n",
       "      <td>0.263197</td>\n",
       "    </tr>\n",
       "    <tr>\n",
       "      <th>BUI</th>\n",
       "      <td>0.517117</td>\n",
       "      <td>0.085073</td>\n",
       "      <td>0.459789</td>\n",
       "      <td>-0.353841</td>\n",
       "      <td>0.031438</td>\n",
       "      <td>-0.299852</td>\n",
       "      <td>0.592011</td>\n",
       "      <td>0.982248</td>\n",
       "      <td>0.941988</td>\n",
       "      <td>0.644093</td>\n",
       "      <td>1.000000</td>\n",
       "      <td>0.857973</td>\n",
       "      <td>0.586639</td>\n",
       "      <td>0.089408</td>\n",
       "    </tr>\n",
       "    <tr>\n",
       "      <th>FWI</th>\n",
       "      <td>0.350781</td>\n",
       "      <td>0.082639</td>\n",
       "      <td>0.566670</td>\n",
       "      <td>-0.580957</td>\n",
       "      <td>0.032368</td>\n",
       "      <td>-0.324422</td>\n",
       "      <td>0.691132</td>\n",
       "      <td>0.875864</td>\n",
       "      <td>0.739521</td>\n",
       "      <td>0.922895</td>\n",
       "      <td>0.857973</td>\n",
       "      <td>1.000000</td>\n",
       "      <td>0.719216</td>\n",
       "      <td>0.197102</td>\n",
       "    </tr>\n",
       "    <tr>\n",
       "      <th>Classes</th>\n",
       "      <td>0.202840</td>\n",
       "      <td>0.024004</td>\n",
       "      <td>0.516015</td>\n",
       "      <td>-0.432161</td>\n",
       "      <td>-0.069964</td>\n",
       "      <td>-0.379097</td>\n",
       "      <td>0.769492</td>\n",
       "      <td>0.585658</td>\n",
       "      <td>0.511123</td>\n",
       "      <td>0.735197</td>\n",
       "      <td>0.586639</td>\n",
       "      <td>0.719216</td>\n",
       "      <td>1.000000</td>\n",
       "      <td>0.162347</td>\n",
       "    </tr>\n",
       "    <tr>\n",
       "      <th>Region</th>\n",
       "      <td>0.000821</td>\n",
       "      <td>0.001857</td>\n",
       "      <td>0.269555</td>\n",
       "      <td>-0.402682</td>\n",
       "      <td>-0.181160</td>\n",
       "      <td>-0.040013</td>\n",
       "      <td>0.222241</td>\n",
       "      <td>0.192089</td>\n",
       "      <td>-0.078734</td>\n",
       "      <td>0.263197</td>\n",
       "      <td>0.089408</td>\n",
       "      <td>0.197102</td>\n",
       "      <td>0.162347</td>\n",
       "      <td>1.000000</td>\n",
       "    </tr>\n",
       "  </tbody>\n",
       "</table>\n",
       "</div>"
      ],
      "text/plain": [
       "                  day     month  Temperature        RH        Ws      Rain  \\\n",
       "day          1.000000 -0.000369     0.097227 -0.076034  0.047812 -0.112523   \n",
       "month       -0.000369  1.000000    -0.056781 -0.041252 -0.039880  0.034822   \n",
       "Temperature  0.097227 -0.056781     1.000000 -0.651400 -0.284510 -0.326492   \n",
       "RH          -0.076034 -0.041252    -0.651400  1.000000  0.244048  0.222356   \n",
       "Ws           0.047812 -0.039880    -0.284510  0.244048  1.000000  0.171506   \n",
       "Rain        -0.112523  0.034822    -0.326492  0.222356  0.171506  1.000000   \n",
       "FFMC         0.224956  0.017030     0.676568 -0.644873 -0.166548 -0.543906   \n",
       "DMC          0.491514  0.067943     0.485687 -0.408519 -0.000721 -0.288773   \n",
       "DC           0.527952  0.126511     0.376284 -0.226941  0.079135 -0.298023   \n",
       "ISI          0.180543  0.065608     0.603871 -0.686667  0.008532 -0.347484   \n",
       "BUI          0.517117  0.085073     0.459789 -0.353841  0.031438 -0.299852   \n",
       "FWI          0.350781  0.082639     0.566670 -0.580957  0.032368 -0.324422   \n",
       "Classes      0.202840  0.024004     0.516015 -0.432161 -0.069964 -0.379097   \n",
       "Region       0.000821  0.001857     0.269555 -0.402682 -0.181160 -0.040013   \n",
       "\n",
       "                 FFMC       DMC        DC       ISI       BUI       FWI  \\\n",
       "day          0.224956  0.491514  0.527952  0.180543  0.517117  0.350781   \n",
       "month        0.017030  0.067943  0.126511  0.065608  0.085073  0.082639   \n",
       "Temperature  0.676568  0.485687  0.376284  0.603871  0.459789  0.566670   \n",
       "RH          -0.644873 -0.408519 -0.226941 -0.686667 -0.353841 -0.580957   \n",
       "Ws          -0.166548 -0.000721  0.079135  0.008532  0.031438  0.032368   \n",
       "Rain        -0.543906 -0.288773 -0.298023 -0.347484 -0.299852 -0.324422   \n",
       "FFMC         1.000000  0.603608  0.507397  0.740007  0.592011  0.691132   \n",
       "DMC          0.603608  1.000000  0.875925  0.680454  0.982248  0.875864   \n",
       "DC           0.507397  0.875925  1.000000  0.508643  0.941988  0.739521   \n",
       "ISI          0.740007  0.680454  0.508643  1.000000  0.644093  0.922895   \n",
       "BUI          0.592011  0.982248  0.941988  0.644093  1.000000  0.857973   \n",
       "FWI          0.691132  0.875864  0.739521  0.922895  0.857973  1.000000   \n",
       "Classes      0.769492  0.585658  0.511123  0.735197  0.586639  0.719216   \n",
       "Region       0.222241  0.192089 -0.078734  0.263197  0.089408  0.197102   \n",
       "\n",
       "              Classes    Region  \n",
       "day          0.202840  0.000821  \n",
       "month        0.024004  0.001857  \n",
       "Temperature  0.516015  0.269555  \n",
       "RH          -0.432161 -0.402682  \n",
       "Ws          -0.069964 -0.181160  \n",
       "Rain        -0.379097 -0.040013  \n",
       "FFMC         0.769492  0.222241  \n",
       "DMC          0.585658  0.192089  \n",
       "DC           0.511123 -0.078734  \n",
       "ISI          0.735197  0.263197  \n",
       "BUI          0.586639  0.089408  \n",
       "FWI          0.719216  0.197102  \n",
       "Classes      1.000000  0.162347  \n",
       "Region       0.162347  1.000000  "
      ]
     },
     "execution_count": 279,
     "metadata": {},
     "output_type": "execute_result"
    }
   ],
   "source": [
    "# correlation table\n",
    "df.corr()"
   ]
  },
  {
   "cell_type": "code",
   "execution_count": 280,
   "metadata": {},
   "outputs": [
    {
     "data": {
      "image/png": "[encoded data removed]",
      "text/plain": [
       "<Figure size 800x600 with 1 Axes>"
      ]
     },
     "metadata": {},
     "output_type": "display_data"
    }
   ],
   "source": [
    "# finding highly correlated features\n",
    "high_corr = df.corr()\n",
    "\n",
    "# Setting a threshold value (70&)\n",
    "threshold = 0.7\n",
    "\n",
    "# Creating a mask to retain highly correlated variables\n",
    "mask = (high_corr > threshold) | (high_corr < -threshold)\n",
    "\n",
    "# Masking the ones above the diagonal (the ones below the diagonal are automatically masked)\n",
    "mask = mask & ~np.eye(mask.shape[0], dtype=bool)\n",
    "\n",
    "# Getting the names of variables that have high correlations\n",
    "selected_features = high_corr.columns[mask.any()].tolist()\n",
    "\n",
    "# Creating a heatmap containing only highly correlated variables and display correlation values\n",
    "subset_corr = high_corr.loc[selected_features, selected_features]\n",
    "\n",
    "# Create and display the subset heatmap with correlation values\n",
    "plt.figure(figsize=(8, 6))\n",
    "sns.heatmap(subset_corr, annot=True, cmap=\"coolwarm\", cbar=False, linewidths=0.5)\n",
    "plt.title('Highly Correlated Features Correlation Heatmap')\n",
    "plt.show()"
   ]
  },
  {
   "cell_type": "code",
   "execution_count": 281,
   "metadata": {},
   "outputs": [],
   "source": [
    "# DMC and DC  have a high correlation among them\n",
    "# DMC and BUI have a high correlation among them\n",
    "# DC  and BUI have a high correlation among them\n",
    "\n",
    "# removing redundant features (DC and BUI columns), since DMC has the highest correlation with the target column (FWI)\n",
    "df.drop('DC',  axis=1, inplace=True)\n",
    "df.drop('BUI', axis=1, inplace=True)"
   ]
  },
  {
   "cell_type": "code",
   "execution_count": 282,
   "metadata": {},
   "outputs": [
    {
     "name": "stdout",
     "output_type": "stream",
     "text": [
      "<class 'pandas.core.frame.DataFrame'>\n",
      "RangeIndex: 243 entries, 0 to 242\n",
      "Data columns (total 12 columns):\n",
      " #   Column       Non-Null Count  Dtype  \n",
      "---  ------       --------------  -----  \n",
      " 0   day          243 non-null    float64\n",
      " 1   month        243 non-null    float64\n",
      " 2   Temperature  243 non-null    float64\n",
      " 3   RH           243 non-null    float64\n",
      " 4   Ws           243 non-null    float64\n",
      " 5   Rain         243 non-null    float64\n",
      " 6   FFMC         243 non-null    float64\n",
      " 7   DMC          243 non-null    float64\n",
      " 8   ISI          243 non-null    float64\n",
      " 9   FWI          243 non-null    float64\n",
      " 10  Classes      243 non-null    float64\n",
      " 11  Region       243 non-null    float64\n",
      "dtypes: float64(12)\n",
      "memory usage: 22.9 KB\n"
     ]
    }
   ],
   "source": [
    "df.info()"
   ]
  },
  {
   "cell_type": "code",
   "execution_count": 283,
   "metadata": {},
   "outputs": [
    {
     "data": {
      "text/html": [
       "<div>\n",
       "<style scoped>\n",
       "    .dataframe tbody tr th:only-of-type {\n",
       "        vertical-align: middle;\n",
       "    }\n",
       "\n",
       "    .dataframe tbody tr th {\n",
       "        vertical-align: top;\n",
       "    }\n",
       "\n",
       "    .dataframe thead th {\n",
       "        text-align: right;\n",
       "    }\n",
       "</style>\n",
       "<table border=\"1\" class=\"dataframe\">\n",
       "  <thead>\n",
       "    <tr style=\"text-align: right;\">\n",
       "      <th></th>\n",
       "      <th>day</th>\n",
       "      <th>month</th>\n",
       "      <th>Temperature</th>\n",
       "      <th>RH</th>\n",
       "      <th>Ws</th>\n",
       "      <th>Rain</th>\n",
       "      <th>FFMC</th>\n",
       "      <th>DMC</th>\n",
       "      <th>ISI</th>\n",
       "      <th>FWI</th>\n",
       "      <th>Classes</th>\n",
       "      <th>Region</th>\n",
       "    </tr>\n",
       "  </thead>\n",
       "  <tbody>\n",
       "    <tr>\n",
       "      <th>0</th>\n",
       "      <td>1.0</td>\n",
       "      <td>6.0</td>\n",
       "      <td>29.0</td>\n",
       "      <td>57.0</td>\n",
       "      <td>18.0</td>\n",
       "      <td>0.0</td>\n",
       "      <td>65.7</td>\n",
       "      <td>3.4</td>\n",
       "      <td>1.3</td>\n",
       "      <td>0.5</td>\n",
       "      <td>0.0</td>\n",
       "      <td>0.0</td>\n",
       "    </tr>\n",
       "    <tr>\n",
       "      <th>1</th>\n",
       "      <td>2.0</td>\n",
       "      <td>6.0</td>\n",
       "      <td>29.0</td>\n",
       "      <td>61.0</td>\n",
       "      <td>13.0</td>\n",
       "      <td>1.3</td>\n",
       "      <td>64.4</td>\n",
       "      <td>4.1</td>\n",
       "      <td>1.0</td>\n",
       "      <td>0.4</td>\n",
       "      <td>0.0</td>\n",
       "      <td>0.0</td>\n",
       "    </tr>\n",
       "    <tr>\n",
       "      <th>2</th>\n",
       "      <td>3.0</td>\n",
       "      <td>6.0</td>\n",
       "      <td>26.0</td>\n",
       "      <td>82.0</td>\n",
       "      <td>22.0</td>\n",
       "      <td>13.1</td>\n",
       "      <td>47.1</td>\n",
       "      <td>2.5</td>\n",
       "      <td>0.3</td>\n",
       "      <td>0.1</td>\n",
       "      <td>0.0</td>\n",
       "      <td>0.0</td>\n",
       "    </tr>\n",
       "    <tr>\n",
       "      <th>3</th>\n",
       "      <td>4.0</td>\n",
       "      <td>6.0</td>\n",
       "      <td>25.0</td>\n",
       "      <td>89.0</td>\n",
       "      <td>13.0</td>\n",
       "      <td>2.5</td>\n",
       "      <td>28.6</td>\n",
       "      <td>1.3</td>\n",
       "      <td>0.0</td>\n",
       "      <td>0.0</td>\n",
       "      <td>0.0</td>\n",
       "      <td>0.0</td>\n",
       "    </tr>\n",
       "    <tr>\n",
       "      <th>4</th>\n",
       "      <td>5.0</td>\n",
       "      <td>6.0</td>\n",
       "      <td>27.0</td>\n",
       "      <td>77.0</td>\n",
       "      <td>16.0</td>\n",
       "      <td>0.0</td>\n",
       "      <td>64.8</td>\n",
       "      <td>3.0</td>\n",
       "      <td>1.2</td>\n",
       "      <td>0.5</td>\n",
       "      <td>0.0</td>\n",
       "      <td>0.0</td>\n",
       "    </tr>\n",
       "  </tbody>\n",
       "</table>\n",
       "</div>"
      ],
      "text/plain": [
       "   day  month  Temperature    RH    Ws  Rain  FFMC  DMC  ISI  FWI  Classes  \\\n",
       "0  1.0    6.0         29.0  57.0  18.0   0.0  65.7  3.4  1.3  0.5      0.0   \n",
       "1  2.0    6.0         29.0  61.0  13.0   1.3  64.4  4.1  1.0  0.4      0.0   \n",
       "2  3.0    6.0         26.0  82.0  22.0  13.1  47.1  2.5  0.3  0.1      0.0   \n",
       "3  4.0    6.0         25.0  89.0  13.0   2.5  28.6  1.3  0.0  0.0      0.0   \n",
       "4  5.0    6.0         27.0  77.0  16.0   0.0  64.8  3.0  1.2  0.5      0.0   \n",
       "\n",
       "   Region  \n",
       "0     0.0  \n",
       "1     0.0  \n",
       "2     0.0  \n",
       "3     0.0  \n",
       "4     0.0  "
      ]
     },
     "execution_count": 283,
     "metadata": {},
     "output_type": "execute_result"
    }
   ],
   "source": [
    "df.head()"
   ]
  },
  {
   "cell_type": "code",
   "execution_count": 284,
   "metadata": {},
   "outputs": [
    {
     "data": {
      "text/plain": [
       "(243, 12)"
      ]
     },
     "execution_count": 284,
     "metadata": {},
     "output_type": "execute_result"
    }
   ],
   "source": [
    "df.shape"
   ]
  },
  {
   "cell_type": "markdown",
   "metadata": {},
   "source": [
    "**TRAIN AND TEST DATASETS**"
   ]
  },
  {
   "cell_type": "code",
   "execution_count": 285,
   "metadata": {},
   "outputs": [],
   "source": [
    "# defining features and target variable\n",
    "X = df.drop('FWI', axis=1)\n",
    "Y = df['FWI']"
   ]
  },
  {
   "cell_type": "code",
   "execution_count": 286,
   "metadata": {},
   "outputs": [
    {
     "data": {
      "text/html": [
       "<div>\n",
       "<style scoped>\n",
       "    .dataframe tbody tr th:only-of-type {\n",
       "        vertical-align: middle;\n",
       "    }\n",
       "\n",
       "    .dataframe tbody tr th {\n",
       "        vertical-align: top;\n",
       "    }\n",
       "\n",
       "    .dataframe thead th {\n",
       "        text-align: right;\n",
       "    }\n",
       "</style>\n",
       "<table border=\"1\" class=\"dataframe\">\n",
       "  <thead>\n",
       "    <tr style=\"text-align: right;\">\n",
       "      <th></th>\n",
       "      <th>day</th>\n",
       "      <th>month</th>\n",
       "      <th>Temperature</th>\n",
       "      <th>RH</th>\n",
       "      <th>Ws</th>\n",
       "      <th>Rain</th>\n",
       "      <th>FFMC</th>\n",
       "      <th>DMC</th>\n",
       "      <th>ISI</th>\n",
       "      <th>Classes</th>\n",
       "      <th>Region</th>\n",
       "    </tr>\n",
       "  </thead>\n",
       "  <tbody>\n",
       "    <tr>\n",
       "      <th>0</th>\n",
       "      <td>1.0</td>\n",
       "      <td>6.0</td>\n",
       "      <td>29.0</td>\n",
       "      <td>57.0</td>\n",
       "      <td>18.0</td>\n",
       "      <td>0.0</td>\n",
       "      <td>65.7</td>\n",
       "      <td>3.4</td>\n",
       "      <td>1.3</td>\n",
       "      <td>0.0</td>\n",
       "      <td>0.0</td>\n",
       "    </tr>\n",
       "    <tr>\n",
       "      <th>1</th>\n",
       "      <td>2.0</td>\n",
       "      <td>6.0</td>\n",
       "      <td>29.0</td>\n",
       "      <td>61.0</td>\n",
       "      <td>13.0</td>\n",
       "      <td>1.3</td>\n",
       "      <td>64.4</td>\n",
       "      <td>4.1</td>\n",
       "      <td>1.0</td>\n",
       "      <td>0.0</td>\n",
       "      <td>0.0</td>\n",
       "    </tr>\n",
       "    <tr>\n",
       "      <th>2</th>\n",
       "      <td>3.0</td>\n",
       "      <td>6.0</td>\n",
       "      <td>26.0</td>\n",
       "      <td>82.0</td>\n",
       "      <td>22.0</td>\n",
       "      <td>13.1</td>\n",
       "      <td>47.1</td>\n",
       "      <td>2.5</td>\n",
       "      <td>0.3</td>\n",
       "      <td>0.0</td>\n",
       "      <td>0.0</td>\n",
       "    </tr>\n",
       "    <tr>\n",
       "      <th>3</th>\n",
       "      <td>4.0</td>\n",
       "      <td>6.0</td>\n",
       "      <td>25.0</td>\n",
       "      <td>89.0</td>\n",
       "      <td>13.0</td>\n",
       "      <td>2.5</td>\n",
       "      <td>28.6</td>\n",
       "      <td>1.3</td>\n",
       "      <td>0.0</td>\n",
       "      <td>0.0</td>\n",
       "      <td>0.0</td>\n",
       "    </tr>\n",
       "    <tr>\n",
       "      <th>4</th>\n",
       "      <td>5.0</td>\n",
       "      <td>6.0</td>\n",
       "      <td>27.0</td>\n",
       "      <td>77.0</td>\n",
       "      <td>16.0</td>\n",
       "      <td>0.0</td>\n",
       "      <td>64.8</td>\n",
       "      <td>3.0</td>\n",
       "      <td>1.2</td>\n",
       "      <td>0.0</td>\n",
       "      <td>0.0</td>\n",
       "    </tr>\n",
       "  </tbody>\n",
       "</table>\n",
       "</div>"
      ],
      "text/plain": [
       "   day  month  Temperature    RH    Ws  Rain  FFMC  DMC  ISI  Classes  Region\n",
       "0  1.0    6.0         29.0  57.0  18.0   0.0  65.7  3.4  1.3      0.0     0.0\n",
       "1  2.0    6.0         29.0  61.0  13.0   1.3  64.4  4.1  1.0      0.0     0.0\n",
       "2  3.0    6.0         26.0  82.0  22.0  13.1  47.1  2.5  0.3      0.0     0.0\n",
       "3  4.0    6.0         25.0  89.0  13.0   2.5  28.6  1.3  0.0      0.0     0.0\n",
       "4  5.0    6.0         27.0  77.0  16.0   0.0  64.8  3.0  1.2      0.0     0.0"
      ]
     },
     "execution_count": 286,
     "metadata": {},
     "output_type": "execute_result"
    }
   ],
   "source": [
    "X.head()"
   ]
  },
  {
   "cell_type": "code",
   "execution_count": 287,
   "metadata": {},
   "outputs": [
    {
     "data": {
      "text/plain": [
       "0    0.5\n",
       "1    0.4\n",
       "2    0.1\n",
       "3    0.0\n",
       "4    0.5\n",
       "Name: FWI, dtype: float64"
      ]
     },
     "execution_count": 287,
     "metadata": {},
     "output_type": "execute_result"
    }
   ],
   "source": [
    "Y.head()"
   ]
  },
  {
   "cell_type": "code",
   "execution_count": 288,
   "metadata": {},
   "outputs": [],
   "source": [
    "# splitting train and test datasets\n",
    "X_train, X_test, Y_train, Y_test = train_test_split(X, Y, test_size = 0.30, random_state = 42)"
   ]
  },
  {
   "cell_type": "markdown",
   "metadata": {},
   "source": [
    "**SCALING**"
   ]
  },
  {
   "cell_type": "code",
   "execution_count": 289,
   "metadata": {},
   "outputs": [],
   "source": [
    "# Standard scaling\n",
    "sc = StandardScaler()\n",
    "\n",
    "# transforming x_train and x_test\n",
    "X_train = sc.fit_transform(X_train)\n",
    "X_test  = sc.transform(X_test)"
   ]
  },
  {
   "cell_type": "code",
   "execution_count": 290,
   "metadata": {},
   "outputs": [
    {
     "data": {
      "text/plain": [
       "array([[ 1.56765151, -1.30687831,  0.26131696, ...,  0.57277215,\n",
       "         0.90992142, -1.        ],\n",
       "       [ 1.45605153,  1.39153439, -1.64645715, ..., -1.03570698,\n",
       "        -1.098996  , -1.        ],\n",
       "       [ 0.78645164,  1.39153439, -0.0112222 , ..., -0.82590535,\n",
       "        -1.098996  , -1.        ],\n",
       "       ...,\n",
       "       [-1.66874796,  1.39153439, -1.91899631, ..., -1.05901827,\n",
       "        -1.098996  , -1.        ],\n",
       "       [ 1.45605153, -0.40740741,  0.53385612, ...,  0.61939473,\n",
       "         0.90992142,  1.        ],\n",
       "       [-0.55274815,  1.39153439, -0.55630052, ..., -0.84921665,\n",
       "        -1.098996  , -1.        ]])"
      ]
     },
     "execution_count": 290,
     "metadata": {},
     "output_type": "execute_result"
    }
   ],
   "source": [
    "X_train"
   ]
  },
  {
   "cell_type": "code",
   "execution_count": 291,
   "metadata": {},
   "outputs": [
    {
     "data": {
      "text/plain": [
       "array([[ 1.00965160e+00, -1.30687831e+00, -2.83761359e-01,\n",
       "         8.39147711e-02, -2.09234040e-01, -3.85823876e-01,\n",
       "         6.47089705e-01, -5.89987708e-02,  2.23102774e-01,\n",
       "         9.09921419e-01, -1.00000000e+00],\n",
       "       [-9.99148073e-01, -1.30687831e+00,  2.61316957e-01,\n",
       "        -5.92175802e-01, -9.74175691e-01, -3.85823876e-01,\n",
       "         7.52243844e-01, -3.92549439e-01,  3.86281817e-01,\n",
       "         9.09921419e-01, -1.00000000e+00],\n",
       "       [-1.66874796e+00, -4.07407407e-01, -1.10137883e+00,\n",
       "        -3.21739572e-01,  9.38178437e-01,  6.21141440e-01,\n",
       "        -9.65273758e-01, -9.12267923e-01, -8.25905354e-01,\n",
       "        -1.09899600e+00,  1.00000000e+00],\n",
       "       [ 4.51651691e-01,  1.39153439e+00,  5.33856115e-01,\n",
       "        -3.21739572e-01, -9.74175691e-01, -2.94281575e-01,\n",
       "         1.42349838e-01,  2.90065882e-01, -6.16103728e-01,\n",
       "        -1.09899600e+00,  1.00000000e+00],\n",
       "       [ 1.12125158e+00,  1.39153439e+00, -5.56300516e-01,\n",
       "         1.51523828e-01, -5.91704866e-01, -3.85823876e-01,\n",
       "         5.55956118e-01,  8.06270905e-02, -5.66327264e-02,\n",
       "         9.09921419e-01,  1.00000000e+00],\n",
       "       [ 1.00965160e+00, -4.07407407e-01,  1.89655190e+00,\n",
       "         8.39147711e-02, -2.50405899e+00,  1.63429932e-01,\n",
       "        -2.57235889e-01, -2.52923578e-01, -8.49216645e-01,\n",
       "        -1.09899600e+00,  1.00000000e+00],\n",
       "       [-1.44554800e+00,  1.39153439e+00, -1.10137883e+00,\n",
       "         8.27614401e-01,  1.73236786e-01, -3.85823876e-01,\n",
       "         3.31627288e-01, -8.19184016e-01, -3.36368227e-01,\n",
       "         9.09921419e-01,  1.00000000e+00],\n",
       "       [ 1.45605153e+00, -1.30687831e+00,  1.35147359e+00,\n",
       "        -1.80913883e+00, -9.74175691e-01, -1.11196972e-01,\n",
       "         6.12038325e-01,  2.28009944e-01,  1.33011488e-02,\n",
       "         9.09921419e-01,  1.00000000e+00],\n",
       "       [-6.64348127e-01, -1.30687831e+00, -1.10137883e+00,\n",
       "         1.09805063e+00, -1.35664652e+00, -3.85823876e-01,\n",
       "        -2.99297545e-01, -4.23577409e-01, -8.02594062e-01,\n",
       "        -1.09899600e+00, -1.00000000e+00],\n",
       "       [ 6.74851655e-01,  1.39153439e+00, -2.83761359e-01,\n",
       "        -8.62612031e-01,  1.32064926e+00, -1.11196972e-01,\n",
       "         2.31751475e-02, -3.38250493e-01, -5.46169853e-01,\n",
       "        -1.09899600e+00, -1.00000000e+00],\n",
       "       [ 5.25176385e-03, -4.07407407e-01, -1.10137883e+00,\n",
       "         8.95223458e-01,  2.08559091e+00, -3.85823876e-01,\n",
       "        -3.41359201e-01, -6.17502216e-01, -9.42461812e-01,\n",
       "        -1.09899600e+00, -1.00000000e+00],\n",
       "       [ 1.34445155e+00,  4.92063492e-01,  8.06395273e-01,\n",
       "        -4.56957687e-01, -5.91704866e-01, -2.02739274e-01,\n",
       "         1.21319010e-01,  1.70959547e+00, -6.16103728e-01,\n",
       "        -1.09899600e+00,  1.00000000e+00],\n",
       "       [-1.06348218e-01,  1.39153439e+00, -1.12222006e-02,\n",
       "        -7.95002973e-01, -9.74175691e-01, -3.85823876e-01,\n",
       "         7.87295223e-01,  8.06270905e-02,  5.02838275e-01,\n",
       "         9.09921419e-01,  1.00000000e+00],\n",
       "       [ 4.51651691e-01, -4.07407407e-01,  1.07893443e+00,\n",
       "        -8.62612031e-01,  1.73236786e-01, -3.85823876e-01,\n",
       "         8.71418534e-01,  1.37604480e+00,  1.10893186e+00,\n",
       "         9.09921419e-01,  1.00000000e+00],\n",
       "       [ 6.74851655e-01,  4.92063492e-01,  1.07893443e+00,\n",
       "        -5.24566744e-01,  9.38178437e-01, -3.85823876e-01,\n",
       "         8.15336327e-01,  1.43810074e+00,  1.20217703e+00,\n",
       "         9.09921419e-01, -1.00000000e+00],\n",
       "       [-6.64348127e-01, -4.07407407e-01,  5.33856115e-01,\n",
       "        -7.95002973e-01,  1.73236786e-01,  1.35347985e+00,\n",
       "         2.14431969e-03, -5.39932293e-01, -6.39415020e-01,\n",
       "        -1.09899600e+00,  1.00000000e+00],\n",
       "       [ 8.98051619e-01,  1.39153439e+00, -1.64645715e+00,\n",
       "        -9.30221088e-01, -3.65147147e+00,  5.29599138e-01,\n",
       "        -1.13352038e+00, -2.37409594e-01, -9.65773104e-01,\n",
       "        -1.09899600e+00,  1.00000000e+00],\n",
       "       [ 5.25176385e-03, -1.30687831e+00, -8.28839674e-01,\n",
       "         1.77414120e+00, -9.74175691e-01, -6.54258213e-02,\n",
       "        -2.90010991e+00, -1.02862281e+00, -1.10564085e+00,\n",
       "        -1.09899600e+00, -1.00000000e+00],\n",
       "       [-1.11074805e+00,  4.92063492e-01, -1.12222006e-02,\n",
       "         8.27614401e-01, -5.91704866e-01, -3.85823876e-01,\n",
       "         6.26058877e-01, -1.52082678e-01,  1.06546316e-01,\n",
       "         9.09921419e-01, -1.00000000e+00],\n",
       "       [-1.11074805e+00, -1.30687831e+00,  8.06395273e-01,\n",
       "        -5.92175802e-01, -1.73911734e+00, -3.40052726e-01,\n",
       "         4.36781427e-01, -5.08904324e-01, -3.82990811e-01,\n",
       "         9.09921419e-01,  1.00000000e+00],\n",
       "       [-1.33394802e+00, -4.07407407e-01,  2.61316957e-01,\n",
       "         1.03044157e+00,  5.55707612e-01, -3.85823876e-01,\n",
       "         1.84411494e-01, -8.03670031e-01, -4.76235978e-01,\n",
       "        -1.09899600e+00, -1.00000000e+00],\n",
       "       [ 4.51651691e-01, -1.30687831e+00, -5.56300516e-01,\n",
       "         1.16565969e+00,  1.73236786e-01, -2.02739274e-01,\n",
       "        -1.23867452e+00, -8.96753939e-01, -8.95839229e-01,\n",
       "        -1.09899600e+00, -1.00000000e+00],\n",
       "       [ 1.16851746e-01,  1.39153439e+00, -2.83761359e-01,\n",
       "        -7.27393916e-01, -5.91704866e-01, -3.85823876e-01,\n",
       "         7.17192464e-01, -6.64044170e-01,  3.39659233e-01,\n",
       "         9.09921419e-01, -1.00000000e+00],\n",
       "       [-1.66874796e+00, -4.07407407e-01, -8.28839674e-01,\n",
       "         3.54351000e-01,  1.32064926e+00,  7.18876308e-02,\n",
       "        -1.23166424e+00, -9.66566869e-01, -8.49216645e-01,\n",
       "        -1.09899600e+00, -1.00000000e+00],\n",
       "       [-1.33394802e+00,  4.92063492e-01,  1.62401275e+00,\n",
       "        -1.87674789e+00, -2.09234040e-01, -3.85823876e-01,\n",
       "         1.14481930e+00,  6.23616551e-01,  2.55423195e+00,\n",
       "         9.09921419e-01,  1.00000000e+00],\n",
       "       [-3.29548182e-01, -4.07407407e-01,  1.89655190e+00,\n",
       "        -1.20065732e+00, -9.74175691e-01, -1.11196972e-01,\n",
       "         5.41935566e-01, -2.83951547e-01, -1.26566602e-01,\n",
       "         9.09921419e-01,  1.00000000e+00],\n",
       "       [-5.52748146e-01, -1.30687831e+00, -2.83761359e-01,\n",
       "         1.51523828e-01, -5.91704866e-01, -3.85823876e-01,\n",
       "         4.92863634e-01, -1.90867640e-01, -1.73189185e-01,\n",
       "         9.09921419e-01, -1.00000000e+00],\n",
       "       [-3.29548182e-01,  4.92063492e-01,  8.06395273e-01,\n",
       "         1.63057138e-02, -2.09234040e-01, -3.85823876e-01,\n",
       "         6.68120532e-01,  3.13336859e-01,  2.69725358e-01,\n",
       "         9.09921419e-01, -1.00000000e+00],\n",
       "       [-1.55714798e+00,  1.39153439e+00, -2.73661378e+00,\n",
       "         1.57131403e+00, -2.09234040e-01,  4.23706235e+00,\n",
       "        -3.29268536e+00, -1.10619273e+00, -1.10564085e+00,\n",
       "        -1.09899600e+00, -1.00000000e+00],\n",
       "       [-1.33394802e+00, -4.07407407e-01,  5.33856115e-01,\n",
       "        -3.21739572e-01,  9.38178437e-01, -3.85823876e-01,\n",
       "         7.38223292e-01, -1.05540725e-01,  7.59262484e-01,\n",
       "         9.09921419e-01,  1.00000000e+00],\n",
       "       [ 4.51651691e-01,  1.39153439e+00, -1.10137883e+00,\n",
       "         1.43609592e+00,  9.38178437e-01, -3.85823876e-01,\n",
       "         4.43791703e-01, -1.13297717e-01, -5.66327264e-02,\n",
       "         9.09921419e-01, -1.00000000e+00],\n",
       "       [-1.22234804e+00,  1.39153439e+00, -5.56300516e-01,\n",
       "        -3.21739572e-01, -1.35664652e+00,  1.49079330e+00,\n",
       "        -7.97027136e-01, -8.50211985e-01, -8.72527937e-01,\n",
       "        -1.09899600e+00,  1.00000000e+00],\n",
       "       [ 1.12125158e+00, -1.30687831e+00, -2.83761359e-01,\n",
       "         8.39147711e-02,  9.38178437e-01, -3.85823876e-01,\n",
       "         6.54099981e-01,  2.20252952e-01,  4.56215692e-01,\n",
       "         9.09921419e-01, -1.00000000e+00],\n",
       "       [ 1.67925149e+00, -4.07407407e-01,  8.06395273e-01,\n",
       "         8.39147711e-02,  5.55707612e-01, -3.85823876e-01,\n",
       "         6.82141084e-01,  1.31398887e+00,  4.79526983e-01,\n",
       "         9.09921419e-01, -1.00000000e+00],\n",
       "       [ 3.40051709e-01, -1.30687831e+00, -2.83761359e-01,\n",
       "        -5.24566744e-01,  1.73236786e-01, -3.40052726e-01,\n",
       "         1.70390942e-01, -8.11427023e-01, -5.22858561e-01,\n",
       "        -1.09899600e+00, -1.00000000e+00],\n",
       "       [-1.22234804e+00, -1.30687831e+00, -1.12222006e-02,\n",
       "        -1.86521458e-01, -5.91704866e-01, -2.94281575e-01,\n",
       "        -2.58967840e-02, -6.95072139e-01, -6.86037603e-01,\n",
       "        -1.09899600e+00,  1.00000000e+00],\n",
       "       [-1.22234804e+00,  1.39153439e+00, -8.28839674e-01,\n",
       "         8.27614401e-01,  1.73236786e-01, -3.85823876e-01,\n",
       "         2.33483425e-01, -8.96753939e-01, -4.52924686e-01,\n",
       "         9.09921419e-01, -1.00000000e+00],\n",
       "       [-1.06348218e-01,  4.92063492e-01,  8.06395273e-01,\n",
       "        -1.13304826e+00, -9.74175691e-01, -2.48510424e-01,\n",
       "         4.50801979e-01,  1.50440021e-01, -2.89745644e-01,\n",
       "         9.09921419e-01,  1.00000000e+00],\n",
       "       [ 5.25176385e-03, -1.30687831e+00, -8.28839674e-01,\n",
       "         1.63892309e+00, -2.09234040e-01, -2.02739274e-01,\n",
       "        -2.10794873e+00, -8.34698000e-01, -1.05901827e+00,\n",
       "        -1.09899600e+00,  1.00000000e+00],\n",
       "       [ 1.34445155e+00,  1.39153439e+00, -1.37391799e+00,\n",
       "         1.63892309e+00,  5.14535752e+00, -1.56968123e-01,\n",
       "        -2.21310287e+00, -8.88996946e-01, -1.01239569e+00,\n",
       "        -1.09899600e+00,  1.00000000e+00],\n",
       "       [-1.06348218e-01,  4.92063492e-01,  1.07893443e+00,\n",
       "        -5.24566744e-01, -9.74175691e-01, -2.48510424e-01,\n",
       "         3.45647840e-01,  4.95991213e-02, -2.43123060e-01,\n",
       "         9.09921419e-01, -1.00000000e+00],\n",
       "       [ 1.12125158e+00,  1.39153439e+00, -2.83761359e-01,\n",
       "        -5.92175802e-01, -1.73911734e+00, -3.85823876e-01,\n",
       "         3.17606736e-01, -6.95072139e-01, -5.22858561e-01,\n",
       "        -1.09899600e+00, -1.00000000e+00],\n",
       "       [ 5.63251673e-01,  1.39153439e+00, -2.83761359e-01,\n",
       "        -5.24566744e-01, -1.73911734e+00, -3.85823876e-01,\n",
       "         7.24202740e-01,  1.19412052e-01,  1.53168899e-01,\n",
       "         9.09921419e-01, -1.00000000e+00],\n",
       "       [ 1.16851746e-01, -1.30687831e+00, -5.56300516e-01,\n",
       "         1.77414120e+00,  1.73236786e-01, -1.11196972e-01,\n",
       "        -2.81598660e+00, -1.07516476e+00, -1.10564085e+00,\n",
       "        -1.09899600e+00, -1.00000000e+00],\n",
       "       [-2.17948200e-01,  4.92063492e-01,  1.35147359e+00,\n",
       "        -1.53870260e+00, -9.74175691e-01, -3.85823876e-01,\n",
       "         1.01162405e+00,  5.69317605e-01,  1.41197865e+00,\n",
       "         9.09921419e-01,  1.00000000e+00],\n",
       "       [-9.99148073e-01,  4.92063492e-01, -1.12222006e-02,\n",
       "         4.21960057e-01,  1.73236786e-01, -3.85823876e-01,\n",
       "         6.33069153e-01,  4.18421290e-02,  1.76480191e-01,\n",
       "         9.09921419e-01, -1.00000000e+00],\n",
       "       [ 1.16851746e-01, -4.07407407e-01, -1.12222006e-02,\n",
       "         1.23326874e+00,  5.55707612e-01, -3.85823876e-01,\n",
       "         4.99873910e-01,  4.76233698e-01, -1.00101429e-02,\n",
       "         9.09921419e-01,  1.00000000e+00],\n",
       "       [-7.75948109e-01, -4.07407407e-01, -1.12222006e-02,\n",
       "         3.54351000e-01, -5.91704866e-01,  2.54972234e-01,\n",
       "        -7.61975756e-01, -5.63203270e-01, -8.49216645e-01,\n",
       "        -1.09899600e+00, -1.00000000e+00],\n",
       "       [ 1.56765151e+00, -4.07407407e-01,  1.07893443e+00,\n",
       "        -4.56957687e-01,  1.73236786e-01, -3.85823876e-01,\n",
       "         8.01315775e-01,  6.85672489e-01,  8.05885068e-01,\n",
       "         9.09921419e-01,  1.00000000e+00],\n",
       "       [ 8.98051619e-01,  1.39153439e+00, -8.28839674e-01,\n",
       "         1.51523828e-01,  1.32064926e+00, -1.11196972e-01,\n",
       "        -6.42801065e-01, -7.33857100e-01, -7.55971478e-01,\n",
       "        -1.09899600e+00, -1.00000000e+00],\n",
       "       [ 1.12125158e+00,  4.92063492e-01,  2.61316957e-01,\n",
       "        -1.74152977e+00,  1.73236786e-01, -3.85823876e-01,\n",
       "         1.03265488e+00,  3.59454460e+00,  1.94813836e+00,\n",
       "         9.09921419e-01,  1.00000000e+00],\n",
       "       [-9.99148073e-01, -4.07407407e-01,  1.62401275e+00,\n",
       "        -1.33587543e+00, -9.74175691e-01, -1.56968123e-01,\n",
       "         5.27915014e-01, -1.52082678e-01, -1.49877893e-01,\n",
       "         9.09921419e-01,  1.00000000e+00],\n",
       "       [-5.52748146e-01, -1.30687831e+00, -2.83761359e-01,\n",
       "        -1.40348449e+00,  2.08559091e+00, -3.85823876e-01,\n",
       "         9.20490466e-01,  2.51280921e-01,  2.01807224e+00,\n",
       "         9.09921419e-01,  1.00000000e+00],\n",
       "       [ 8.98051619e-01,  4.92063492e-01,  5.33856115e-01,\n",
       "         8.39147711e-02, -5.91704866e-01, -3.85823876e-01,\n",
       "         8.01315775e-01,  1.98109020e+00,  9.92375402e-01,\n",
       "         9.09921419e-01, -1.00000000e+00],\n",
       "       [ 1.12125158e+00, -4.07407407e-01,  1.07893443e+00,\n",
       "        -6.59784859e-01,  1.32064926e+00, -3.85823876e-01,\n",
       "         8.22346603e-01,  1.65954006e-01,  1.22548832e+00,\n",
       "         9.09921419e-01, -1.00000000e+00],\n",
       "       [ 1.12125158e+00,  4.92063492e-01, -2.83761359e-01,\n",
       "         1.03044157e+00,  9.38178437e-01, -3.85823876e-01,\n",
       "         5.83997221e-01,  2.37669681e+00, -1.00101429e-02,\n",
       "         9.09921419e-01, -1.00000000e+00],\n",
       "       [-5.52748146e-01, -4.07407407e-01,  5.33856115e-01,\n",
       "        -4.56957687e-01, -2.09234040e-01,  9.41539495e-01,\n",
       "        -1.87133130e-01, -6.09745224e-01, -7.32660187e-01,\n",
       "        -1.09899600e+00,  1.00000000e+00],\n",
       "       [ 1.34445155e+00, -4.07407407e-01,  2.61316957e-01,\n",
       "        -3.89348630e-01,  1.73236786e-01, -3.85823876e-01,\n",
       "         7.03171912e-01,  5.73561136e-02,  4.56215692e-01,\n",
       "         9.09921419e-01,  1.00000000e+00],\n",
       "       [-4.41148164e-01,  1.39153439e+00, -2.83761359e-01,\n",
       "         6.24787229e-01, -5.91704866e-01, -3.85823876e-01,\n",
       "         4.71832807e-01, -5.16661316e-01, -2.19811769e-01,\n",
       "         9.09921419e-01,  1.00000000e+00],\n",
       "       [ 2.28451728e-01,  1.39153439e+00,  1.07893443e+00,\n",
       "        -2.01196600e+00, -9.74175691e-01, -3.40052726e-01,\n",
       "         9.20490466e-01,  8.40812335e-01,  9.92375402e-01,\n",
       "         9.09921419e-01,  1.00000000e+00],\n",
       "       [-1.44554800e+00, -4.07407407e-01,  5.33856115e-01,\n",
       "        -4.56957687e-01,  5.55707612e-01, -3.40052726e-01,\n",
       "         5.06884186e-01, -4.08063424e-01, -1.00101429e-02,\n",
       "         9.09921419e-01,  1.00000000e+00],\n",
       "       [-1.11074805e+00,  1.39153439e+00, -8.28839674e-01,\n",
       "         7.60005344e-01,  1.32064926e+00, -3.40052726e-01,\n",
       "        -1.17030371e-01, -8.81239954e-01, -6.16103728e-01,\n",
       "        -1.09899600e+00, -1.00000000e+00],\n",
       "       [ 4.51651691e-01, -1.30687831e+00, -2.83761359e-01,\n",
       "         6.24787229e-01, -5.91704866e-01, -2.94281575e-01,\n",
       "        -1.21063342e+00, -8.65725969e-01, -9.19150521e-01,\n",
       "        -1.09899600e+00,  1.00000000e+00],\n",
       "       [-5.52748146e-01,  4.92063492e-01,  2.16909106e+00,\n",
       "        -2.14718412e+00, -2.09234040e-01, -3.85823876e-01,\n",
       "         1.17286040e+00,  5.84831590e-01,  2.76403357e+00,\n",
       "         9.09921419e-01,  1.00000000e+00],\n",
       "       [-8.87548091e-01,  4.92063492e-01, -1.12222006e-02,\n",
       "        -1.86521458e-01,  9.38178437e-01, -2.48510424e-01,\n",
       "        -2.58967840e-02, -2.83951547e-01, -5.92792436e-01,\n",
       "        -1.09899600e+00, -1.00000000e+00],\n",
       "       [ 1.34445155e+00,  1.39153439e+00, -1.12222006e-02,\n",
       "        -1.06543920e+00, -5.91704866e-01, -6.54258213e-02,\n",
       "         2.14431969e-03, -6.09745224e-01, -6.86037603e-01,\n",
       "        -1.09899600e+00, -1.00000000e+00],\n",
       "       [-7.75948109e-01,  4.92063492e-01,  8.06395273e-01,\n",
       "        -2.54130515e-01,  5.55707612e-01, -3.85823876e-01,\n",
       "         6.96161636e-01, -1.24568170e-02,  5.02838275e-01,\n",
       "         9.09921419e-01, -1.00000000e+00],\n",
       "       [-1.55714798e+00, -4.07407407e-01,  2.61316957e-01,\n",
       "        -9.97830145e-01,  1.73236786e-01, -3.85823876e-01,\n",
       "         7.10182188e-01, -5.47689285e-01,  4.79526983e-01,\n",
       "         9.09921419e-01,  1.00000000e+00],\n",
       "       [-3.29548182e-01,  4.92063492e-01,  8.06395273e-01,\n",
       "        -1.94435695e+00,  1.73236786e-01, -2.94281575e-01,\n",
       "         7.59254119e-01,  1.50440021e-01,  6.42706026e-01,\n",
       "         9.09921419e-01,  1.00000000e+00],\n",
       "       [-3.29548182e-01,  1.39153439e+00, -1.91899631e+00,\n",
       "         1.57131403e+00,  2.08559091e+00,  1.71964906e+00,\n",
       "        -2.56361667e+00, -1.05965078e+00, -1.08232956e+00,\n",
       "        -1.09899600e+00, -1.00000000e+00],\n",
       "       [ 2.28451728e-01,  1.39153439e+00, -1.12222006e-02,\n",
       "        -9.30221088e-01, -1.73911734e+00, -3.85823876e-01,\n",
       "         8.36367155e-01, -4.00306432e-01,  4.79526983e-01,\n",
       "         9.09921419e-01, -1.00000000e+00],\n",
       "       [-7.75948109e-01,  4.92063492e-01,  1.89655190e+00,\n",
       "        -1.33587543e+00, -1.35664652e+00, -3.85823876e-01,\n",
       "         9.97603501e-01,  1.19412052e-01,  1.13224315e+00,\n",
       "         9.09921419e-01,  1.00000000e+00],\n",
       "       [ 3.40051709e-01,  4.92063492e-01,  8.06395273e-01,\n",
       "        -5.13033434e-02,  1.32064926e+00, -3.85823876e-01,\n",
       "         8.36367155e-01,  6.39130536e-01,  1.15555444e+00,\n",
       "         9.09921419e-01, -1.00000000e+00]])"
      ]
     },
     "execution_count": 291,
     "metadata": {},
     "output_type": "execute_result"
    }
   ],
   "source": [
    "X_test"
   ]
  },
  {
   "cell_type": "markdown",
   "metadata": {},
   "source": [
    "**MULTIPLE LINEAR REGRESSION**"
   ]
  },
  {
   "cell_type": "code",
   "execution_count": 292,
   "metadata": {},
   "outputs": [
    {
     "data": {
      "text/html": [
       "<style>#sk-container-id-21 {color: black;}#sk-container-id-21 pre{padding: 0;}#sk-container-id-21 div.sk-toggleable {background-color: white;}#sk-container-id-21 label.sk-toggleable__label {cursor: pointer;display: block;width: 100%;margin-bottom: 0;padding: 0.3em;box-sizing: border-box;text-align: center;}#sk-container-id-21 label.sk-toggleable__label-arrow:before {content: \"▸\";float: left;margin-right: 0.25em;color: #696969;}#sk-container-id-21 label.sk-toggleable__label-arrow:hover:before {color: black;}#sk-container-id-21 div.sk-estimator:hover label.sk-toggleable__label-arrow:before {color: black;}#sk-container-id-21 div.sk-toggleable__content {max-height: 0;max-width: 0;overflow: hidden;text-align: left;background-color: #f0f8ff;}#sk-container-id-21 div.sk-toggleable__content pre {margin: 0.2em;color: black;border-radius: 0.25em;background-color: #f0f8ff;}#sk-container-id-21 input.sk-toggleable__control:checked~div.sk-toggleable__content {max-height: 200px;max-width: 100%;overflow: auto;}#sk-container-id-21 input.sk-toggleable__control:checked~label.sk-toggleable__label-arrow:before {content: \"▾\";}#sk-container-id-21 div.sk-estimator input.sk-toggleable__control:checked~label.sk-toggleable__label {background-color: #d4ebff;}#sk-container-id-21 div.sk-label input.sk-toggleable__control:checked~label.sk-toggleable__label {background-color: #d4ebff;}#sk-container-id-21 input.sk-hidden--visually {border: 0;clip: rect(1px 1px 1px 1px);clip: rect(1px, 1px, 1px, 1px);height: 1px;margin: -1px;overflow: hidden;padding: 0;position: absolute;width: 1px;}#sk-container-id-21 div.sk-estimator {font-family: monospace;background-color: #f0f8ff;border: 1px dotted black;border-radius: 0.25em;box-sizing: border-box;margin-bottom: 0.5em;}#sk-container-id-21 div.sk-estimator:hover {background-color: #d4ebff;}#sk-container-id-21 div.sk-parallel-item::after {content: \"\";width: 100%;border-bottom: 1px solid gray;flex-grow: 1;}#sk-container-id-21 div.sk-label:hover label.sk-toggleable__label {background-color: #d4ebff;}#sk-container-id-21 div.sk-serial::before {content: \"\";position: absolute;border-left: 1px solid gray;box-sizing: border-box;top: 0;bottom: 0;left: 50%;z-index: 0;}#sk-container-id-21 div.sk-serial {display: flex;flex-direction: column;align-items: center;background-color: white;padding-right: 0.2em;padding-left: 0.2em;position: relative;}#sk-container-id-21 div.sk-item {position: relative;z-index: 1;}#sk-container-id-21 div.sk-parallel {display: flex;align-items: stretch;justify-content: center;background-color: white;position: relative;}#sk-container-id-21 div.sk-item::before, #sk-container-id-21 div.sk-parallel-item::before {content: \"\";position: absolute;border-left: 1px solid gray;box-sizing: border-box;top: 0;bottom: 0;left: 50%;z-index: -1;}#sk-container-id-21 div.sk-parallel-item {display: flex;flex-direction: column;z-index: 1;position: relative;background-color: white;}#sk-container-id-21 div.sk-parallel-item:first-child::after {align-self: flex-end;width: 50%;}#sk-container-id-21 div.sk-parallel-item:last-child::after {align-self: flex-start;width: 50%;}#sk-container-id-21 div.sk-parallel-item:only-child::after {width: 0;}#sk-container-id-21 div.sk-dashed-wrapped {border: 1px dashed gray;margin: 0 0.4em 0.5em 0.4em;box-sizing: border-box;padding-bottom: 0.4em;background-color: white;}#sk-container-id-21 div.sk-label label {font-family: monospace;font-weight: bold;display: inline-block;line-height: 1.2em;}#sk-container-id-21 div.sk-label-container {text-align: center;}#sk-container-id-21 div.sk-container {/* jupyter's `normalize.less` sets `[hidden] { display: none; }` but bootstrap.min.css set `[hidden] { display: none !important; }` so we also need the `!important` here to be able to override the default hidden behavior on the sphinx rendered scikit-learn.org. See: https://github.com/scikit-learn/scikit-learn/issues/21755 */display: inline-block !important;position: relative;}#sk-container-id-21 div.sk-text-repr-fallback {display: none;}</style><div id=\"sk-container-id-21\" class=\"sk-top-container\"><div class=\"sk-text-repr-fallback\"><pre>LinearRegression()</pre><b>In a Jupyter environment, please rerun this cell to show the HTML representation or trust the notebook. <br />On GitHub, the HTML representation is unable to render, please try loading this page with nbviewer.org.</b></div><div class=\"sk-container\" hidden><div class=\"sk-item\"><div class=\"sk-estimator sk-toggleable\"><input class=\"sk-toggleable__control sk-hidden--visually\" id=\"sk-estimator-id-21\" type=\"checkbox\" checked><label for=\"sk-estimator-id-21\" class=\"sk-toggleable__label sk-toggleable__label-arrow\">LinearRegression</label><div class=\"sk-toggleable__content\"><pre>LinearRegression()</pre></div></div></div></div></div>"
      ],
      "text/plain": [
       "LinearRegression()"
      ]
     },
     "execution_count": 292,
     "metadata": {},
     "output_type": "execute_result"
    }
   ],
   "source": [
    "# fitting linear regression model\n",
    "lr = LinearRegression()\n",
    "lr.fit(X_train, Y_train)"
   ]
  },
  {
   "cell_type": "code",
   "execution_count": 293,
   "metadata": {},
   "outputs": [
    {
     "data": {
      "text/plain": [
       "array([ 8.24327676,  7.47632536, -0.50515919,  4.61469829,  7.0482027 ,\n",
       "        1.59384729,  1.97311277,  8.00484833,  1.42702545,  3.71726431,\n",
       "        0.38025349,  9.88970873,  9.50518955, 16.94742554, 18.53079424,\n",
       "        1.17117343,  2.28858675, -0.10346354,  7.0000776 ,  2.81014197,\n",
       "        1.18204843,  0.22596892,  6.88431532,  0.06550968, 20.89195268,\n",
       "        5.14499074,  5.67254394,  9.76823714, -0.19542834,  9.52300923,\n",
       "        6.80775887, -0.39641859, 10.39674668, 14.67352384,  1.51495116,\n",
       "        0.14822178,  2.03664414,  6.18650846, -0.57867012,  0.1470588 ,\n",
       "        6.77113013,  2.31649625,  8.87779144, -0.32086332, 15.47197699,\n",
       "        8.15210126,  8.0893757 ,  1.28900719, 13.16116549,  1.64665129,\n",
       "       29.37586879,  5.43337504, 17.00713964, 19.42545394, 14.00676926,\n",
       "       16.08734217,  0.59525474,  9.23102199,  3.74405023, 14.83416119,\n",
       "        4.93201445,  0.82510187, -0.45720497, 21.93765274,  3.16643053,\n",
       "        2.24008791,  9.65157108,  6.70760279, 10.54533823, -0.14850308,\n",
       "        8.47762499, 12.33921229, 15.20988237])"
      ]
     },
     "execution_count": 293,
     "metadata": {},
     "output_type": "execute_result"
    }
   ],
   "source": [
    "# predicting linear regression model\n",
    "Y_pred = lr.predict(X_test)\n",
    "Y_pred"
   ]
  },
  {
   "cell_type": "code",
   "execution_count": 294,
   "metadata": {},
   "outputs": [],
   "source": [
    "# evaluating model\n",
    "lr_r2s  = r2_score(Y_test, Y_pred)\n",
    "lr_mae  = mean_absolute_error(Y_test, Y_pred)\n",
    "lr_mse  = mean_squared_error(Y_test, Y_pred)\n",
    "lr_rmse = np.sqrt(mean_squared_error(Y_test, Y_pred))"
   ]
  },
  {
   "cell_type": "markdown",
   "metadata": {},
   "source": [
    "**POLYNOMIAL REGRESSION**"
   ]
  },
  {
   "cell_type": "code",
   "execution_count": 295,
   "metadata": {},
   "outputs": [],
   "source": [
    "# polynomial regression\n",
    "poly = PolynomialFeatures(degree=2, include_bias=False)\n",
    "X_poly = poly.fit_transform(X)"
   ]
  },
  {
   "cell_type": "code",
   "execution_count": 296,
   "metadata": {},
   "outputs": [
    {
     "data": {
      "text/plain": [
       "(243, 77)"
      ]
     },
     "execution_count": 296,
     "metadata": {},
     "output_type": "execute_result"
    }
   ],
   "source": [
    "# poly X shape\n",
    "X_poly.shape"
   ]
  },
  {
   "cell_type": "code",
   "execution_count": 297,
   "metadata": {},
   "outputs": [],
   "source": [
    "# splitting train and test datasets\n",
    "X_train_poly, X_test_poly, Y_train_poly, Y_test_poly = train_test_split(X_poly, Y, test_size = 0.30, random_state = 42)"
   ]
  },
  {
   "cell_type": "code",
   "execution_count": 298,
   "metadata": {},
   "outputs": [
    {
     "data": {
      "text/html": [
       "<style>#sk-container-id-22 {color: black;}#sk-container-id-22 pre{padding: 0;}#sk-container-id-22 div.sk-toggleable {background-color: white;}#sk-container-id-22 label.sk-toggleable__label {cursor: pointer;display: block;width: 100%;margin-bottom: 0;padding: 0.3em;box-sizing: border-box;text-align: center;}#sk-container-id-22 label.sk-toggleable__label-arrow:before {content: \"▸\";float: left;margin-right: 0.25em;color: #696969;}#sk-container-id-22 label.sk-toggleable__label-arrow:hover:before {color: black;}#sk-container-id-22 div.sk-estimator:hover label.sk-toggleable__label-arrow:before {color: black;}#sk-container-id-22 div.sk-toggleable__content {max-height: 0;max-width: 0;overflow: hidden;text-align: left;background-color: #f0f8ff;}#sk-container-id-22 div.sk-toggleable__content pre {margin: 0.2em;color: black;border-radius: 0.25em;background-color: #f0f8ff;}#sk-container-id-22 input.sk-toggleable__control:checked~div.sk-toggleable__content {max-height: 200px;max-width: 100%;overflow: auto;}#sk-container-id-22 input.sk-toggleable__control:checked~label.sk-toggleable__label-arrow:before {content: \"▾\";}#sk-container-id-22 div.sk-estimator input.sk-toggleable__control:checked~label.sk-toggleable__label {background-color: #d4ebff;}#sk-container-id-22 div.sk-label input.sk-toggleable__control:checked~label.sk-toggleable__label {background-color: #d4ebff;}#sk-container-id-22 input.sk-hidden--visually {border: 0;clip: rect(1px 1px 1px 1px);clip: rect(1px, 1px, 1px, 1px);height: 1px;margin: -1px;overflow: hidden;padding: 0;position: absolute;width: 1px;}#sk-container-id-22 div.sk-estimator {font-family: monospace;background-color: #f0f8ff;border: 1px dotted black;border-radius: 0.25em;box-sizing: border-box;margin-bottom: 0.5em;}#sk-container-id-22 div.sk-estimator:hover {background-color: #d4ebff;}#sk-container-id-22 div.sk-parallel-item::after {content: \"\";width: 100%;border-bottom: 1px solid gray;flex-grow: 1;}#sk-container-id-22 div.sk-label:hover label.sk-toggleable__label {background-color: #d4ebff;}#sk-container-id-22 div.sk-serial::before {content: \"\";position: absolute;border-left: 1px solid gray;box-sizing: border-box;top: 0;bottom: 0;left: 50%;z-index: 0;}#sk-container-id-22 div.sk-serial {display: flex;flex-direction: column;align-items: center;background-color: white;padding-right: 0.2em;padding-left: 0.2em;position: relative;}#sk-container-id-22 div.sk-item {position: relative;z-index: 1;}#sk-container-id-22 div.sk-parallel {display: flex;align-items: stretch;justify-content: center;background-color: white;position: relative;}#sk-container-id-22 div.sk-item::before, #sk-container-id-22 div.sk-parallel-item::before {content: \"\";position: absolute;border-left: 1px solid gray;box-sizing: border-box;top: 0;bottom: 0;left: 50%;z-index: -1;}#sk-container-id-22 div.sk-parallel-item {display: flex;flex-direction: column;z-index: 1;position: relative;background-color: white;}#sk-container-id-22 div.sk-parallel-item:first-child::after {align-self: flex-end;width: 50%;}#sk-container-id-22 div.sk-parallel-item:last-child::after {align-self: flex-start;width: 50%;}#sk-container-id-22 div.sk-parallel-item:only-child::after {width: 0;}#sk-container-id-22 div.sk-dashed-wrapped {border: 1px dashed gray;margin: 0 0.4em 0.5em 0.4em;box-sizing: border-box;padding-bottom: 0.4em;background-color: white;}#sk-container-id-22 div.sk-label label {font-family: monospace;font-weight: bold;display: inline-block;line-height: 1.2em;}#sk-container-id-22 div.sk-label-container {text-align: center;}#sk-container-id-22 div.sk-container {/* jupyter's `normalize.less` sets `[hidden] { display: none; }` but bootstrap.min.css set `[hidden] { display: none !important; }` so we also need the `!important` here to be able to override the default hidden behavior on the sphinx rendered scikit-learn.org. See: https://github.com/scikit-learn/scikit-learn/issues/21755 */display: inline-block !important;position: relative;}#sk-container-id-22 div.sk-text-repr-fallback {display: none;}</style><div id=\"sk-container-id-22\" class=\"sk-top-container\"><div class=\"sk-text-repr-fallback\"><pre>LinearRegression()</pre><b>In a Jupyter environment, please rerun this cell to show the HTML representation or trust the notebook. <br />On GitHub, the HTML representation is unable to render, please try loading this page with nbviewer.org.</b></div><div class=\"sk-container\" hidden><div class=\"sk-item\"><div class=\"sk-estimator sk-toggleable\"><input class=\"sk-toggleable__control sk-hidden--visually\" id=\"sk-estimator-id-22\" type=\"checkbox\" checked><label for=\"sk-estimator-id-22\" class=\"sk-toggleable__label sk-toggleable__label-arrow\">LinearRegression</label><div class=\"sk-toggleable__content\"><pre>LinearRegression()</pre></div></div></div></div></div>"
      ],
      "text/plain": [
       "LinearRegression()"
      ]
     },
     "execution_count": 298,
     "metadata": {},
     "output_type": "execute_result"
    }
   ],
   "source": [
    "# fitting polynomial regression model\n",
    "lr_poly = LinearRegression()\n",
    "lr_poly.fit(X_train_poly, Y_train_poly)"
   ]
  },
  {
   "cell_type": "code",
   "execution_count": 299,
   "metadata": {},
   "outputs": [],
   "source": [
    "# predicting polynomial regression model\n",
    "Y_pred_poly = lr_poly.predict(X_test_poly)"
   ]
  },
  {
   "cell_type": "code",
   "execution_count": 300,
   "metadata": {},
   "outputs": [],
   "source": [
    "# evaluating model\n",
    "lr_poly_r2s  = r2_score(Y_test, Y_pred_poly)\n",
    "lr_poly_mae  = mean_absolute_error(Y_test, Y_pred_poly)\n",
    "lr_poly_mse  = mean_squared_error(Y_test, Y_pred_poly)\n",
    "lr_poly_rmse = np.sqrt(mean_squared_error(Y_test, Y_pred_poly))"
   ]
  },
  {
   "cell_type": "markdown",
   "metadata": {},
   "source": [
    "**REGULARIZATION TECHNIQUES**"
   ]
  },
  {
   "cell_type": "markdown",
   "metadata": {},
   "source": [
    "**Ridge**"
   ]
  },
  {
   "cell_type": "code",
   "execution_count": 301,
   "metadata": {},
   "outputs": [
    {
     "data": {
      "text/html": [
       "<style>#sk-container-id-23 {color: black;}#sk-container-id-23 pre{padding: 0;}#sk-container-id-23 div.sk-toggleable {background-color: white;}#sk-container-id-23 label.sk-toggleable__label {cursor: pointer;display: block;width: 100%;margin-bottom: 0;padding: 0.3em;box-sizing: border-box;text-align: center;}#sk-container-id-23 label.sk-toggleable__label-arrow:before {content: \"▸\";float: left;margin-right: 0.25em;color: #696969;}#sk-container-id-23 label.sk-toggleable__label-arrow:hover:before {color: black;}#sk-container-id-23 div.sk-estimator:hover label.sk-toggleable__label-arrow:before {color: black;}#sk-container-id-23 div.sk-toggleable__content {max-height: 0;max-width: 0;overflow: hidden;text-align: left;background-color: #f0f8ff;}#sk-container-id-23 div.sk-toggleable__content pre {margin: 0.2em;color: black;border-radius: 0.25em;background-color: #f0f8ff;}#sk-container-id-23 input.sk-toggleable__control:checked~div.sk-toggleable__content {max-height: 200px;max-width: 100%;overflow: auto;}#sk-container-id-23 input.sk-toggleable__control:checked~label.sk-toggleable__label-arrow:before {content: \"▾\";}#sk-container-id-23 div.sk-estimator input.sk-toggleable__control:checked~label.sk-toggleable__label {background-color: #d4ebff;}#sk-container-id-23 div.sk-label input.sk-toggleable__control:checked~label.sk-toggleable__label {background-color: #d4ebff;}#sk-container-id-23 input.sk-hidden--visually {border: 0;clip: rect(1px 1px 1px 1px);clip: rect(1px, 1px, 1px, 1px);height: 1px;margin: -1px;overflow: hidden;padding: 0;position: absolute;width: 1px;}#sk-container-id-23 div.sk-estimator {font-family: monospace;background-color: #f0f8ff;border: 1px dotted black;border-radius: 0.25em;box-sizing: border-box;margin-bottom: 0.5em;}#sk-container-id-23 div.sk-estimator:hover {background-color: #d4ebff;}#sk-container-id-23 div.sk-parallel-item::after {content: \"\";width: 100%;border-bottom: 1px solid gray;flex-grow: 1;}#sk-container-id-23 div.sk-label:hover label.sk-toggleable__label {background-color: #d4ebff;}#sk-container-id-23 div.sk-serial::before {content: \"\";position: absolute;border-left: 1px solid gray;box-sizing: border-box;top: 0;bottom: 0;left: 50%;z-index: 0;}#sk-container-id-23 div.sk-serial {display: flex;flex-direction: column;align-items: center;background-color: white;padding-right: 0.2em;padding-left: 0.2em;position: relative;}#sk-container-id-23 div.sk-item {position: relative;z-index: 1;}#sk-container-id-23 div.sk-parallel {display: flex;align-items: stretch;justify-content: center;background-color: white;position: relative;}#sk-container-id-23 div.sk-item::before, #sk-container-id-23 div.sk-parallel-item::before {content: \"\";position: absolute;border-left: 1px solid gray;box-sizing: border-box;top: 0;bottom: 0;left: 50%;z-index: -1;}#sk-container-id-23 div.sk-parallel-item {display: flex;flex-direction: column;z-index: 1;position: relative;background-color: white;}#sk-container-id-23 div.sk-parallel-item:first-child::after {align-self: flex-end;width: 50%;}#sk-container-id-23 div.sk-parallel-item:last-child::after {align-self: flex-start;width: 50%;}#sk-container-id-23 div.sk-parallel-item:only-child::after {width: 0;}#sk-container-id-23 div.sk-dashed-wrapped {border: 1px dashed gray;margin: 0 0.4em 0.5em 0.4em;box-sizing: border-box;padding-bottom: 0.4em;background-color: white;}#sk-container-id-23 div.sk-label label {font-family: monospace;font-weight: bold;display: inline-block;line-height: 1.2em;}#sk-container-id-23 div.sk-label-container {text-align: center;}#sk-container-id-23 div.sk-container {/* jupyter's `normalize.less` sets `[hidden] { display: none; }` but bootstrap.min.css set `[hidden] { display: none !important; }` so we also need the `!important` here to be able to override the default hidden behavior on the sphinx rendered scikit-learn.org. See: https://github.com/scikit-learn/scikit-learn/issues/21755 */display: inline-block !important;position: relative;}#sk-container-id-23 div.sk-text-repr-fallback {display: none;}</style><div id=\"sk-container-id-23\" class=\"sk-top-container\"><div class=\"sk-text-repr-fallback\"><pre>Ridge()</pre><b>In a Jupyter environment, please rerun this cell to show the HTML representation or trust the notebook. <br />On GitHub, the HTML representation is unable to render, please try loading this page with nbviewer.org.</b></div><div class=\"sk-container\" hidden><div class=\"sk-item\"><div class=\"sk-estimator sk-toggleable\"><input class=\"sk-toggleable__control sk-hidden--visually\" id=\"sk-estimator-id-23\" type=\"checkbox\" checked><label for=\"sk-estimator-id-23\" class=\"sk-toggleable__label sk-toggleable__label-arrow\">Ridge</label><div class=\"sk-toggleable__content\"><pre>Ridge()</pre></div></div></div></div></div>"
      ],
      "text/plain": [
       "Ridge()"
      ]
     },
     "execution_count": 301,
     "metadata": {},
     "output_type": "execute_result"
    }
   ],
   "source": [
    "# Applying RIDGE regularization\n",
    "rd = Ridge()\n",
    "rd.fit(X_train, Y_train)"
   ]
  },
  {
   "cell_type": "code",
   "execution_count": 302,
   "metadata": {},
   "outputs": [],
   "source": [
    "# predicting RIDGE\n",
    "Y_pred_rd = rd.predict(X_test)"
   ]
  },
  {
   "cell_type": "code",
   "execution_count": 303,
   "metadata": {},
   "outputs": [],
   "source": [
    "# evaluating model\n",
    "rd_r2s  = r2_score(Y_test, Y_pred_rd)\n",
    "rd_mae  = mean_absolute_error(Y_test, Y_pred_rd)\n",
    "rd_mse  = mean_squared_error(Y_test, Y_pred_rd)\n",
    "rd_rmse = np.sqrt(mean_squared_error(Y_test, Y_pred_rd))"
   ]
  },
  {
   "cell_type": "markdown",
   "metadata": {},
   "source": [
    "**Lasso**"
   ]
  },
  {
   "cell_type": "code",
   "execution_count": 304,
   "metadata": {},
   "outputs": [
    {
     "data": {
      "text/html": [
       "<style>#sk-container-id-24 {color: black;}#sk-container-id-24 pre{padding: 0;}#sk-container-id-24 div.sk-toggleable {background-color: white;}#sk-container-id-24 label.sk-toggleable__label {cursor: pointer;display: block;width: 100%;margin-bottom: 0;padding: 0.3em;box-sizing: border-box;text-align: center;}#sk-container-id-24 label.sk-toggleable__label-arrow:before {content: \"▸\";float: left;margin-right: 0.25em;color: #696969;}#sk-container-id-24 label.sk-toggleable__label-arrow:hover:before {color: black;}#sk-container-id-24 div.sk-estimator:hover label.sk-toggleable__label-arrow:before {color: black;}#sk-container-id-24 div.sk-toggleable__content {max-height: 0;max-width: 0;overflow: hidden;text-align: left;background-color: #f0f8ff;}#sk-container-id-24 div.sk-toggleable__content pre {margin: 0.2em;color: black;border-radius: 0.25em;background-color: #f0f8ff;}#sk-container-id-24 input.sk-toggleable__control:checked~div.sk-toggleable__content {max-height: 200px;max-width: 100%;overflow: auto;}#sk-container-id-24 input.sk-toggleable__control:checked~label.sk-toggleable__label-arrow:before {content: \"▾\";}#sk-container-id-24 div.sk-estimator input.sk-toggleable__control:checked~label.sk-toggleable__label {background-color: #d4ebff;}#sk-container-id-24 div.sk-label input.sk-toggleable__control:checked~label.sk-toggleable__label {background-color: #d4ebff;}#sk-container-id-24 input.sk-hidden--visually {border: 0;clip: rect(1px 1px 1px 1px);clip: rect(1px, 1px, 1px, 1px);height: 1px;margin: -1px;overflow: hidden;padding: 0;position: absolute;width: 1px;}#sk-container-id-24 div.sk-estimator {font-family: monospace;background-color: #f0f8ff;border: 1px dotted black;border-radius: 0.25em;box-sizing: border-box;margin-bottom: 0.5em;}#sk-container-id-24 div.sk-estimator:hover {background-color: #d4ebff;}#sk-container-id-24 div.sk-parallel-item::after {content: \"\";width: 100%;border-bottom: 1px solid gray;flex-grow: 1;}#sk-container-id-24 div.sk-label:hover label.sk-toggleable__label {background-color: #d4ebff;}#sk-container-id-24 div.sk-serial::before {content: \"\";position: absolute;border-left: 1px solid gray;box-sizing: border-box;top: 0;bottom: 0;left: 50%;z-index: 0;}#sk-container-id-24 div.sk-serial {display: flex;flex-direction: column;align-items: center;background-color: white;padding-right: 0.2em;padding-left: 0.2em;position: relative;}#sk-container-id-24 div.sk-item {position: relative;z-index: 1;}#sk-container-id-24 div.sk-parallel {display: flex;align-items: stretch;justify-content: center;background-color: white;position: relative;}#sk-container-id-24 div.sk-item::before, #sk-container-id-24 div.sk-parallel-item::before {content: \"\";position: absolute;border-left: 1px solid gray;box-sizing: border-box;top: 0;bottom: 0;left: 50%;z-index: -1;}#sk-container-id-24 div.sk-parallel-item {display: flex;flex-direction: column;z-index: 1;position: relative;background-color: white;}#sk-container-id-24 div.sk-parallel-item:first-child::after {align-self: flex-end;width: 50%;}#sk-container-id-24 div.sk-parallel-item:last-child::after {align-self: flex-start;width: 50%;}#sk-container-id-24 div.sk-parallel-item:only-child::after {width: 0;}#sk-container-id-24 div.sk-dashed-wrapped {border: 1px dashed gray;margin: 0 0.4em 0.5em 0.4em;box-sizing: border-box;padding-bottom: 0.4em;background-color: white;}#sk-container-id-24 div.sk-label label {font-family: monospace;font-weight: bold;display: inline-block;line-height: 1.2em;}#sk-container-id-24 div.sk-label-container {text-align: center;}#sk-container-id-24 div.sk-container {/* jupyter's `normalize.less` sets `[hidden] { display: none; }` but bootstrap.min.css set `[hidden] { display: none !important; }` so we also need the `!important` here to be able to override the default hidden behavior on the sphinx rendered scikit-learn.org. See: https://github.com/scikit-learn/scikit-learn/issues/21755 */display: inline-block !important;position: relative;}#sk-container-id-24 div.sk-text-repr-fallback {display: none;}</style><div id=\"sk-container-id-24\" class=\"sk-top-container\"><div class=\"sk-text-repr-fallback\"><pre>Lasso()</pre><b>In a Jupyter environment, please rerun this cell to show the HTML representation or trust the notebook. <br />On GitHub, the HTML representation is unable to render, please try loading this page with nbviewer.org.</b></div><div class=\"sk-container\" hidden><div class=\"sk-item\"><div class=\"sk-estimator sk-toggleable\"><input class=\"sk-toggleable__control sk-hidden--visually\" id=\"sk-estimator-id-24\" type=\"checkbox\" checked><label for=\"sk-estimator-id-24\" class=\"sk-toggleable__label sk-toggleable__label-arrow\">Lasso</label><div class=\"sk-toggleable__content\"><pre>Lasso()</pre></div></div></div></div></div>"
      ],
      "text/plain": [
       "Lasso()"
      ]
     },
     "execution_count": 304,
     "metadata": {},
     "output_type": "execute_result"
    }
   ],
   "source": [
    "# Applying LASSO regularization\n",
    "ls = Lasso()\n",
    "ls.fit(X_train, Y_train)"
   ]
  },
  {
   "cell_type": "code",
   "execution_count": 305,
   "metadata": {},
   "outputs": [],
   "source": [
    "# predicting Lasso\n",
    "Y_pred_ls = ls.predict(X_test)"
   ]
  },
  {
   "cell_type": "code",
   "execution_count": 306,
   "metadata": {},
   "outputs": [],
   "source": [
    "# evaluating the model\n",
    "ls_r2s  = r2_score(Y_test, Y_pred_ls)\n",
    "ls_mae  = mean_absolute_error(Y_test, Y_pred_ls)\n",
    "ls_mse  = mean_squared_error(Y_test, Y_pred_ls)\n",
    "ls_rmse = np.sqrt(mean_squared_error(Y_test, Y_pred_ls))"
   ]
  },
  {
   "cell_type": "markdown",
   "metadata": {},
   "source": [
    "**ElasticNET**"
   ]
  },
  {
   "cell_type": "code",
   "execution_count": 307,
   "metadata": {},
   "outputs": [
    {
     "data": {
      "text/html": [
       "<style>#sk-container-id-25 {color: black;}#sk-container-id-25 pre{padding: 0;}#sk-container-id-25 div.sk-toggleable {background-color: white;}#sk-container-id-25 label.sk-toggleable__label {cursor: pointer;display: block;width: 100%;margin-bottom: 0;padding: 0.3em;box-sizing: border-box;text-align: center;}#sk-container-id-25 label.sk-toggleable__label-arrow:before {content: \"▸\";float: left;margin-right: 0.25em;color: #696969;}#sk-container-id-25 label.sk-toggleable__label-arrow:hover:before {color: black;}#sk-container-id-25 div.sk-estimator:hover label.sk-toggleable__label-arrow:before {color: black;}#sk-container-id-25 div.sk-toggleable__content {max-height: 0;max-width: 0;overflow: hidden;text-align: left;background-color: #f0f8ff;}#sk-container-id-25 div.sk-toggleable__content pre {margin: 0.2em;color: black;border-radius: 0.25em;background-color: #f0f8ff;}#sk-container-id-25 input.sk-toggleable__control:checked~div.sk-toggleable__content {max-height: 200px;max-width: 100%;overflow: auto;}#sk-container-id-25 input.sk-toggleable__control:checked~label.sk-toggleable__label-arrow:before {content: \"▾\";}#sk-container-id-25 div.sk-estimator input.sk-toggleable__control:checked~label.sk-toggleable__label {background-color: #d4ebff;}#sk-container-id-25 div.sk-label input.sk-toggleable__control:checked~label.sk-toggleable__label {background-color: #d4ebff;}#sk-container-id-25 input.sk-hidden--visually {border: 0;clip: rect(1px 1px 1px 1px);clip: rect(1px, 1px, 1px, 1px);height: 1px;margin: -1px;overflow: hidden;padding: 0;position: absolute;width: 1px;}#sk-container-id-25 div.sk-estimator {font-family: monospace;background-color: #f0f8ff;border: 1px dotted black;border-radius: 0.25em;box-sizing: border-box;margin-bottom: 0.5em;}#sk-container-id-25 div.sk-estimator:hover {background-color: #d4ebff;}#sk-container-id-25 div.sk-parallel-item::after {content: \"\";width: 100%;border-bottom: 1px solid gray;flex-grow: 1;}#sk-container-id-25 div.sk-label:hover label.sk-toggleable__label {background-color: #d4ebff;}#sk-container-id-25 div.sk-serial::before {content: \"\";position: absolute;border-left: 1px solid gray;box-sizing: border-box;top: 0;bottom: 0;left: 50%;z-index: 0;}#sk-container-id-25 div.sk-serial {display: flex;flex-direction: column;align-items: center;background-color: white;padding-right: 0.2em;padding-left: 0.2em;position: relative;}#sk-container-id-25 div.sk-item {position: relative;z-index: 1;}#sk-container-id-25 div.sk-parallel {display: flex;align-items: stretch;justify-content: center;background-color: white;position: relative;}#sk-container-id-25 div.sk-item::before, #sk-container-id-25 div.sk-parallel-item::before {content: \"\";position: absolute;border-left: 1px solid gray;box-sizing: border-box;top: 0;bottom: 0;left: 50%;z-index: -1;}#sk-container-id-25 div.sk-parallel-item {display: flex;flex-direction: column;z-index: 1;position: relative;background-color: white;}#sk-container-id-25 div.sk-parallel-item:first-child::after {align-self: flex-end;width: 50%;}#sk-container-id-25 div.sk-parallel-item:last-child::after {align-self: flex-start;width: 50%;}#sk-container-id-25 div.sk-parallel-item:only-child::after {width: 0;}#sk-container-id-25 div.sk-dashed-wrapped {border: 1px dashed gray;margin: 0 0.4em 0.5em 0.4em;box-sizing: border-box;padding-bottom: 0.4em;background-color: white;}#sk-container-id-25 div.sk-label label {font-family: monospace;font-weight: bold;display: inline-block;line-height: 1.2em;}#sk-container-id-25 div.sk-label-container {text-align: center;}#sk-container-id-25 div.sk-container {/* jupyter's `normalize.less` sets `[hidden] { display: none; }` but bootstrap.min.css set `[hidden] { display: none !important; }` so we also need the `!important` here to be able to override the default hidden behavior on the sphinx rendered scikit-learn.org. See: https://github.com/scikit-learn/scikit-learn/issues/21755 */display: inline-block !important;position: relative;}#sk-container-id-25 div.sk-text-repr-fallback {display: none;}</style><div id=\"sk-container-id-25\" class=\"sk-top-container\"><div class=\"sk-text-repr-fallback\"><pre>ElasticNet()</pre><b>In a Jupyter environment, please rerun this cell to show the HTML representation or trust the notebook. <br />On GitHub, the HTML representation is unable to render, please try loading this page with nbviewer.org.</b></div><div class=\"sk-container\" hidden><div class=\"sk-item\"><div class=\"sk-estimator sk-toggleable\"><input class=\"sk-toggleable__control sk-hidden--visually\" id=\"sk-estimator-id-25\" type=\"checkbox\" checked><label for=\"sk-estimator-id-25\" class=\"sk-toggleable__label sk-toggleable__label-arrow\">ElasticNet</label><div class=\"sk-toggleable__content\"><pre>ElasticNet()</pre></div></div></div></div></div>"
      ],
      "text/plain": [
       "ElasticNet()"
      ]
     },
     "execution_count": 307,
     "metadata": {},
     "output_type": "execute_result"
    }
   ],
   "source": [
    "# Applying ElasticNET regularization\n",
    "en = ElasticNet()\n",
    "en.fit(X_train, Y_train)"
   ]
  },
  {
   "cell_type": "code",
   "execution_count": 308,
   "metadata": {},
   "outputs": [],
   "source": [
    "# predicting ElasticNET\n",
    "Y_pred_en = en.predict(X_test)"
   ]
  },
  {
   "cell_type": "code",
   "execution_count": 309,
   "metadata": {},
   "outputs": [],
   "source": [
    "# evaluating the model\n",
    "en_r2s  = r2_score(Y_test, Y_pred_en)\n",
    "en_mae  = mean_absolute_error(Y_test, Y_pred_en)\n",
    "en_mse  = mean_squared_error(Y_test, Y_pred_en)\n",
    "en_rmse = np.sqrt(mean_squared_error(Y_test, Y_pred_en))"
   ]
  },
  {
   "cell_type": "code",
   "execution_count": 311,
   "metadata": {},
   "outputs": [
    {
     "data": {
      "text/html": [
       "<div>\n",
       "<style scoped>\n",
       "    .dataframe tbody tr th:only-of-type {\n",
       "        vertical-align: middle;\n",
       "    }\n",
       "\n",
       "    .dataframe tbody tr th {\n",
       "        vertical-align: top;\n",
       "    }\n",
       "\n",
       "    .dataframe thead th {\n",
       "        text-align: right;\n",
       "    }\n",
       "</style>\n",
       "<table border=\"1\" class=\"dataframe\">\n",
       "  <thead>\n",
       "    <tr style=\"text-align: right;\">\n",
       "      <th></th>\n",
       "      <th>Model</th>\n",
       "      <th>R2 score</th>\n",
       "      <th>MAE</th>\n",
       "      <th>MSE</th>\n",
       "      <th>RMSE</th>\n",
       "    </tr>\n",
       "  </thead>\n",
       "  <tbody>\n",
       "    <tr>\n",
       "      <th>1</th>\n",
       "      <td>Polynomial Regression</td>\n",
       "      <td>0.996237</td>\n",
       "      <td>0.315587</td>\n",
       "      <td>0.168205</td>\n",
       "      <td>0.410128</td>\n",
       "    </tr>\n",
       "    <tr>\n",
       "      <th>0</th>\n",
       "      <td>Multiple Linear Regression</td>\n",
       "      <td>0.983557</td>\n",
       "      <td>0.596357</td>\n",
       "      <td>0.734952</td>\n",
       "      <td>0.857293</td>\n",
       "    </tr>\n",
       "    <tr>\n",
       "      <th>2</th>\n",
       "      <td>Regularization - RIDGE</td>\n",
       "      <td>0.982812</td>\n",
       "      <td>0.615312</td>\n",
       "      <td>0.768252</td>\n",
       "      <td>0.876500</td>\n",
       "    </tr>\n",
       "    <tr>\n",
       "      <th>3</th>\n",
       "      <td>Regularization - LASSO</td>\n",
       "      <td>0.951136</td>\n",
       "      <td>1.120337</td>\n",
       "      <td>2.184027</td>\n",
       "      <td>1.477845</td>\n",
       "    </tr>\n",
       "    <tr>\n",
       "      <th>4</th>\n",
       "      <td>Regularization - ElasticNET</td>\n",
       "      <td>0.880388</td>\n",
       "      <td>1.834240</td>\n",
       "      <td>5.346231</td>\n",
       "      <td>2.312192</td>\n",
       "    </tr>\n",
       "  </tbody>\n",
       "</table>\n",
       "</div>"
      ],
      "text/plain": [
       "                         Model  R2 score       MAE       MSE      RMSE\n",
       "1        Polynomial Regression  0.996237  0.315587  0.168205  0.410128\n",
       "0   Multiple Linear Regression  0.983557  0.596357  0.734952  0.857293\n",
       "2       Regularization - RIDGE  0.982812  0.615312  0.768252  0.876500\n",
       "3       Regularization - LASSO  0.951136  1.120337  2.184027  1.477845\n",
       "4  Regularization - ElasticNET  0.880388  1.834240  5.346231  2.312192"
      ]
     },
     "execution_count": 311,
     "metadata": {},
     "output_type": "execute_result"
    }
   ],
   "source": [
    "# defining a dataframe for results\n",
    "\n",
    "df_results = pd.DataFrame({'Model':   ['Multiple Linear Regression',\n",
    "                                       'Polynomial Regression',\n",
    "                                       'Regularization - RIDGE',\n",
    "                                       'Regularization - LASSO',\n",
    "                                       'Regularization - ElasticNET'],\n",
    "                           'R2 score': [lr_r2s,\n",
    "                                        lr_poly_r2s,\n",
    "                                        rd_r2s,\n",
    "                                        ls_r2s,\n",
    "                                        en_r2s],\n",
    "                           'MAE':      [lr_mae,\n",
    "                                        lr_poly_mae,\n",
    "                                        rd_mae,\n",
    "                                        ls_mae,\n",
    "                                        en_mae],\n",
    "                           'MSE':      [lr_mse,\n",
    "                                        lr_poly_mse,\n",
    "                                        rd_mse,\n",
    "                                        ls_mse,\n",
    "                                        en_mse],\n",
    "                           'RMSE':     [lr_rmse,\n",
    "                                        lr_poly_rmse,\n",
    "                                        rd_rmse,\n",
    "                                        ls_rmse,\n",
    "                                        en_rmse]})\n",
    "\n",
    "df_results.sort_values(by='R2 score', ascending=False)"
   ]
  },
  {
   "cell_type": "markdown",
   "metadata": {},
   "source": [
    "**Cross-Validation**"
   ]
  },
  {
   "cell_type": "code",
   "execution_count": 312,
   "metadata": {},
   "outputs": [
    {
     "name": "stdout",
     "output_type": "stream",
     "text": [
      "Cross-Validation --> 0.5830751595283094\n"
     ]
    }
   ],
   "source": [
    "# applying cross-validation to Multiple Linear Regression model\n",
    "cvs = cross_val_score(lr, X, Y, cv = 30)\n",
    "print ('Cross-Validation -->', cvs.mean())"
   ]
  },
  {
   "cell_type": "markdown",
   "metadata": {},
   "source": [
    "**Grid Search Cross-Validation**"
   ]
  },
  {
   "cell_type": "code",
   "execution_count": 313,
   "metadata": {},
   "outputs": [
    {
     "name": "stdout",
     "output_type": "stream",
     "text": [
      "Performing grid search for Multiple Linear Regression...\n",
      "Best params: {'fit_intercept': True}\n",
      "Best scores: -2.7743683796022127\n",
      "Test MSE:    0.7349516363479631\n",
      "\n",
      "Performing grid search for RIDGE...\n",
      "Best params: {'alpha': 0.9}\n",
      "Best scores: -2.722855233800695\n",
      "Test MSE:    0.764710769299492\n",
      "\n",
      "Performing grid search for LASSO...\n",
      "Best params: {'alpha': 0.1}\n",
      "Best scores: -2.7308684269374197\n",
      "Test MSE:    0.9649892918067187\n",
      "\n",
      "Performing grid search for ElasticNET...\n",
      "Best params: {'alpha': 0.1, 'l1_ratio': 0.7}\n",
      "Best scores: -2.7134740924025733\n",
      "Test MSE:    1.0777469257720997\n",
      "\n",
      "The best model is LinearRegression()\n"
     ]
    }
   ],
   "source": [
    "# defining model names\n",
    "models = {'Multiple Linear Regression' : LinearRegression(),\n",
    "          'RIDGE'                      : Ridge(),\n",
    "          'LASSO'                      : Lasso(),\n",
    "          'ElasticNET'                 : ElasticNet()}\n",
    "\n",
    "# defining params grid\n",
    "param_grids = {'Multiple Linear Regression' : {'fit_intercept':[True, False]},\n",
    "               'RIDGE'                      : {'alpha':[0.1, 0.2, 0.3, 0.5, 0.7, 0.9]},\n",
    "               'LASSO'                      : {'alpha':[0.1, 0.2, 0.3, 0.5, 0.7, 0.9]},\n",
    "               'ElasticNET'                 : {'alpha':[0.1, 0.2, 0.3, 0.5, 0.7, 0.9],\n",
    "                                               'l1_ratio':[0.1, 0.3, 0.5, 0.7, 0.9]}\n",
    "              }\n",
    "\n",
    "best_estimators = {}\n",
    "best_scores = {}\n",
    "\n",
    "for name, model in models.items():\n",
    "    grid = GridSearchCV(estimator = model, param_grid = param_grids[name], cv = 5, scoring = 'neg_mean_squared_error')\n",
    "    grid.fit(X_train, Y_train)\n",
    "    \n",
    "    best_estimators[name] = grid.best_estimator_\n",
    "    best_scores[name]     = mean_squared_error(Y_test, grid.best_estimator_.predict(X_test))\n",
    "    \n",
    "    print(f'Performing grid search for {name}...')\n",
    "    print(f'Best params: {grid.best_params_}')\n",
    "    print(f'Best scores: {grid.best_score_}')\n",
    "    print(f'Test MSE:    {best_scores[name]}\\n')\n",
    "    \n",
    "# identifying the best model (which has the lowest MSE)\n",
    "best_mse = 999999999\n",
    "best_est = \"\"\n",
    "\n",
    "for name, model in models.items():\n",
    "    if best_scores[name] < best_mse:\n",
    "       best_mse = best_scores[name]\n",
    "       best_est = best_estimators[name]\n",
    "\n",
    "print (f\"The best model is {best_est}\")\n"
   ]
  },
  {
   "cell_type": "markdown",
   "metadata": {},
   "source": [
    "**GENERATING AND TESTING THE MODEL (PICKLE FILE)**"
   ]
  },
  {
   "cell_type": "code",
   "execution_count": 314,
   "metadata": {},
   "outputs": [
    {
     "data": {
      "text/plain": [
       "['model.pkl']"
      ]
     },
     "execution_count": 314,
     "metadata": {},
     "output_type": "execute_result"
    }
   ],
   "source": [
    "# saving the best model\n",
    "model = LinearRegression(fit_intercept=True)\n",
    "model.fit(X_train, Y_train)\n",
    "\n",
    "joblib.dump(model, \"model.pkl\")"
   ]
  },
  {
   "cell_type": "code",
   "execution_count": 315,
   "metadata": {},
   "outputs": [
    {
     "data": {
      "text/plain": [
       "['scaler.pkl']"
      ]
     },
     "execution_count": 315,
     "metadata": {},
     "output_type": "execute_result"
    }
   ],
   "source": [
    "# saving scaler\n",
    "joblib.dump(sc, \"scaler.pkl\")"
   ]
  },
  {
   "cell_type": "code",
   "execution_count": 316,
   "metadata": {},
   "outputs": [],
   "source": [
    "# loading pickle file\n",
    "en_pkl = joblib.load(\"model.pkl\")\n",
    "sc_pkl = joblib.load(\"scaler.pkl\")"
   ]
  },
  {
   "cell_type": "code",
   "execution_count": 317,
   "metadata": {},
   "outputs": [],
   "source": [
    "# loading dataset to predict\n",
    "df_pkl = pd.read_csv(\"Algerian_forest_fires_unseen.csv\")"
   ]
  },
  {
   "cell_type": "code",
   "execution_count": 318,
   "metadata": {},
   "outputs": [],
   "source": [
    "# fixing dataset to predict\n",
    "df_pkl.drop('year', axis=1, inplace=True)\n",
    "df_pkl.drop('DC',   axis=1, inplace=True)\n",
    "df_pkl.drop('BUI',  axis=1, inplace=True)\n",
    "df_pkl.drop('FWI',  axis=1, inplace=True)"
   ]
  },
  {
   "cell_type": "code",
   "execution_count": 319,
   "metadata": {},
   "outputs": [],
   "source": [
    "# encoding Classes column\n",
    "df_pkl['Classes'] = df_pkl['Classes'].str.strip()\n",
    "df_pkl['Classes'] = df_pkl['Classes'].map({'fire': 1, 'not fire': 0}).astype(int)"
   ]
  },
  {
   "cell_type": "code",
   "execution_count": 320,
   "metadata": {},
   "outputs": [],
   "source": [
    "# converting datatypes\n",
    "df_pkl['day']         = df_pkl['day'].astype('float64')\n",
    "df_pkl['month']       = df_pkl['month'].astype('float64')\n",
    "df_pkl['Temperature'] = df_pkl['Temperature'].astype('float64')\n",
    "df_pkl['RH']          = df_pkl['RH'].astype('float64')\n",
    "df_pkl['Ws']          = df_pkl['Ws'].astype('float64')\n",
    "df_pkl['Classes']     = df_pkl['Classes'].astype('float64')\n",
    "df_pkl['Region']      = df_pkl['Region'].astype('float64')"
   ]
  },
  {
   "cell_type": "code",
   "execution_count": 321,
   "metadata": {},
   "outputs": [
    {
     "name": "stdout",
     "output_type": "stream",
     "text": [
      "<class 'pandas.core.frame.DataFrame'>\n",
      "RangeIndex: 10 entries, 0 to 9\n",
      "Data columns (total 11 columns):\n",
      " #   Column       Non-Null Count  Dtype  \n",
      "---  ------       --------------  -----  \n",
      " 0   day          10 non-null     float64\n",
      " 1   month        10 non-null     float64\n",
      " 2   Temperature  10 non-null     float64\n",
      " 3   RH           10 non-null     float64\n",
      " 4   Ws           10 non-null     float64\n",
      " 5   Rain         10 non-null     float64\n",
      " 6   FFMC         10 non-null     float64\n",
      " 7   DMC          10 non-null     float64\n",
      " 8   ISI          10 non-null     float64\n",
      " 9   Classes      10 non-null     float64\n",
      " 10  Region       10 non-null     float64\n",
      "dtypes: float64(11)\n",
      "memory usage: 1012.0 bytes\n"
     ]
    }
   ],
   "source": [
    "# verifying structure\n",
    "df_pkl.info()"
   ]
  },
  {
   "cell_type": "code",
   "execution_count": 322,
   "metadata": {},
   "outputs": [
    {
     "data": {
      "text/html": [
       "<div>\n",
       "<style scoped>\n",
       "    .dataframe tbody tr th:only-of-type {\n",
       "        vertical-align: middle;\n",
       "    }\n",
       "\n",
       "    .dataframe tbody tr th {\n",
       "        vertical-align: top;\n",
       "    }\n",
       "\n",
       "    .dataframe thead th {\n",
       "        text-align: right;\n",
       "    }\n",
       "</style>\n",
       "<table border=\"1\" class=\"dataframe\">\n",
       "  <thead>\n",
       "    <tr style=\"text-align: right;\">\n",
       "      <th></th>\n",
       "      <th>day</th>\n",
       "      <th>month</th>\n",
       "      <th>Temperature</th>\n",
       "      <th>RH</th>\n",
       "      <th>Ws</th>\n",
       "      <th>Rain</th>\n",
       "      <th>FFMC</th>\n",
       "      <th>DMC</th>\n",
       "      <th>ISI</th>\n",
       "      <th>Classes</th>\n",
       "      <th>Region</th>\n",
       "    </tr>\n",
       "  </thead>\n",
       "  <tbody>\n",
       "    <tr>\n",
       "      <th>0</th>\n",
       "      <td>26.0</td>\n",
       "      <td>9.0</td>\n",
       "      <td>31.0</td>\n",
       "      <td>54.0</td>\n",
       "      <td>11.0</td>\n",
       "      <td>0.0</td>\n",
       "      <td>82.0</td>\n",
       "      <td>6.0</td>\n",
       "      <td>2.5</td>\n",
       "      <td>0.0</td>\n",
       "      <td>0.0</td>\n",
       "    </tr>\n",
       "    <tr>\n",
       "      <th>1</th>\n",
       "      <td>27.0</td>\n",
       "      <td>9.0</td>\n",
       "      <td>31.0</td>\n",
       "      <td>66.0</td>\n",
       "      <td>11.0</td>\n",
       "      <td>0.0</td>\n",
       "      <td>85.7</td>\n",
       "      <td>8.3</td>\n",
       "      <td>4.0</td>\n",
       "      <td>1.0</td>\n",
       "      <td>0.0</td>\n",
       "    </tr>\n",
       "    <tr>\n",
       "      <th>2</th>\n",
       "      <td>28.0</td>\n",
       "      <td>9.0</td>\n",
       "      <td>32.0</td>\n",
       "      <td>47.0</td>\n",
       "      <td>14.0</td>\n",
       "      <td>0.7</td>\n",
       "      <td>77.5</td>\n",
       "      <td>7.1</td>\n",
       "      <td>1.8</td>\n",
       "      <td>0.0</td>\n",
       "      <td>0.0</td>\n",
       "    </tr>\n",
       "    <tr>\n",
       "      <th>3</th>\n",
       "      <td>29.0</td>\n",
       "      <td>9.0</td>\n",
       "      <td>26.0</td>\n",
       "      <td>80.0</td>\n",
       "      <td>16.0</td>\n",
       "      <td>1.8</td>\n",
       "      <td>47.4</td>\n",
       "      <td>2.9</td>\n",
       "      <td>0.3</td>\n",
       "      <td>0.0</td>\n",
       "      <td>0.0</td>\n",
       "    </tr>\n",
       "    <tr>\n",
       "      <th>4</th>\n",
       "      <td>30.0</td>\n",
       "      <td>9.0</td>\n",
       "      <td>25.0</td>\n",
       "      <td>78.0</td>\n",
       "      <td>14.0</td>\n",
       "      <td>1.4</td>\n",
       "      <td>45.0</td>\n",
       "      <td>1.9</td>\n",
       "      <td>0.2</td>\n",
       "      <td>0.0</td>\n",
       "      <td>0.0</td>\n",
       "    </tr>\n",
       "  </tbody>\n",
       "</table>\n",
       "</div>"
      ],
      "text/plain": [
       "    day  month  Temperature    RH    Ws  Rain  FFMC  DMC  ISI  Classes  Region\n",
       "0  26.0    9.0         31.0  54.0  11.0   0.0  82.0  6.0  2.5      0.0     0.0\n",
       "1  27.0    9.0         31.0  66.0  11.0   0.0  85.7  8.3  4.0      1.0     0.0\n",
       "2  28.0    9.0         32.0  47.0  14.0   0.7  77.5  7.1  1.8      0.0     0.0\n",
       "3  29.0    9.0         26.0  80.0  16.0   1.8  47.4  2.9  0.3      0.0     0.0\n",
       "4  30.0    9.0         25.0  78.0  14.0   1.4  45.0  1.9  0.2      0.0     0.0"
      ]
     },
     "execution_count": 322,
     "metadata": {},
     "output_type": "execute_result"
    }
   ],
   "source": [
    "df_pkl.head()"
   ]
  },
  {
   "cell_type": "code",
   "execution_count": 323,
   "metadata": {},
   "outputs": [],
   "source": [
    "# scaling features\n",
    "X = sc_pkl.transform(df_pkl)"
   ]
  },
  {
   "cell_type": "code",
   "execution_count": 324,
   "metadata": {},
   "outputs": [
    {
     "data": {
      "text/plain": [
       "array([ 2.31649625,  5.07838805,  2.24008791,  0.65066249,  0.4623883 ,\n",
       "       -1.28159037, -1.22956735, -1.32484043,  0.16462498,  0.14822178])"
      ]
     },
     "execution_count": 324,
     "metadata": {},
     "output_type": "execute_result"
    }
   ],
   "source": [
    "# predicting\n",
    "y_pred = en_pkl.predict(X)\n",
    "y_pred"
   ]
  }
 ],
 "metadata": {
  "kernelspec": {
   "display_name": "Python 3",
   "language": "python",
   "name": "python3"
  },
  "language_info": {
   "codemirror_mode": {
    "name": "ipython",
    "version": 3
   },
   "file_extension": ".py",
   "mimetype": "text/x-python",
   "name": "python",
   "nbconvert_exporter": "python",
   "pygments_lexer": "ipython3",
   "version": "3.11.3"
  }
 },
 "nbformat": 4,
 "nbformat_minor": 2
}
