{
 "cells": [
  {
   "cell_type": "markdown",
   "metadata": {},
   "source": [
    "**Name:** EDUARDO WILLIAMS\n",
    "\n",
    "**Student Code:** C0896405\n",
    "\n",
    "**Date:** 26/Jun/2024"
   ]
  },
  {
   "cell_type": "code",
   "execution_count": 212,
   "metadata": {},
   "outputs": [],
   "source": [
    "# importing libraries\n",
    "import pandas  as pd\n",
    "import numpy   as np\n",
    "import seaborn as sns\n",
    "import joblib\n",
    "from matplotlib import pyplot as plt\n",
    "\n",
    "from sklearn.svm               import SVC\n",
    "from sklearn.ensemble          import VotingClassifier\n",
    "from sklearn.neighbors         import KNeighborsClassifier\n",
    "from sklearn.linear_model      import LogisticRegression\n",
    "from sklearn.preprocessing     import LabelEncoder, StandardScaler\n",
    "from sklearn.feature_selection import RFE\n",
    "from sklearn.model_selection   import train_test_split, GridSearchCV\n",
    "from sklearn.metrics           import accuracy_score, confusion_matrix, classification_report, ConfusionMatrixDisplay\n",
    "from sklearn.metrics           import r2_score, mean_absolute_error, mean_squared_error\n",
    "\n",
    "import warnings\n",
    "warnings.filterwarnings('ignore')"
   ]
  },
  {
   "cell_type": "markdown",
   "metadata": {},
   "source": [
    "**1. Dataset Selection**\n",
    "\n",
    "The placement of students is one of the most important objective of an educational institution. The model's main goal is to predict whether the student will be recruited in campus placements or not based on the available factors in the dataset.\n",
    "\n",
    "**Topic:** Campus Recruitment Prediction\n",
    "\n",
    "**Dataset source:** https://www.kaggle.com/c/ml-with-python-course-project/data\n",
    "\n",
    "**Dataset name:** train.csv"
   ]
  },
  {
   "cell_type": "code",
   "execution_count": 177,
   "metadata": {},
   "outputs": [],
   "source": [
    "# loading the dataset\n",
    "df = pd.read_csv(\"train.csv\")"
   ]
  },
  {
   "cell_type": "code",
   "execution_count": 178,
   "metadata": {},
   "outputs": [
    {
     "data": {
      "text/plain": [
       "(215, 15)"
      ]
     },
     "execution_count": 178,
     "metadata": {},
     "output_type": "execute_result"
    }
   ],
   "source": [
    "# verifying dataset's shape\n",
    "df.shape"
   ]
  },
  {
   "cell_type": "code",
   "execution_count": 179,
   "metadata": {},
   "outputs": [
    {
     "name": "stdout",
     "output_type": "stream",
     "text": [
      "<class 'pandas.core.frame.DataFrame'>\n",
      "RangeIndex: 215 entries, 0 to 214\n",
      "Data columns (total 15 columns):\n",
      " #   Column          Non-Null Count  Dtype  \n",
      "---  ------          --------------  -----  \n",
      " 0   sl_no           215 non-null    int64  \n",
      " 1   gender          215 non-null    int64  \n",
      " 2   ssc_p           215 non-null    float64\n",
      " 3   ssc_b           215 non-null    object \n",
      " 4   hsc_p           215 non-null    float64\n",
      " 5   hsc_b           215 non-null    object \n",
      " 6   hsc_s           215 non-null    object \n",
      " 7   degree_p        215 non-null    float64\n",
      " 8   degree_t        215 non-null    object \n",
      " 9   workex          215 non-null    object \n",
      " 10  etest_p         215 non-null    float64\n",
      " 11  specialisation  215 non-null    object \n",
      " 12  mba_p           215 non-null    float64\n",
      " 13  status          215 non-null    object \n",
      " 14  salary          148 non-null    float64\n",
      "dtypes: float64(6), int64(2), object(7)\n",
      "memory usage: 25.3+ KB\n"
     ]
    }
   ],
   "source": [
    "# dataset information\n",
    "df.info()"
   ]
  },
  {
   "cell_type": "code",
   "execution_count": 180,
   "metadata": {},
   "outputs": [
    {
     "data": {
      "text/html": [
       "<div>\n",
       "<style scoped>\n",
       "    .dataframe tbody tr th:only-of-type {\n",
       "        vertical-align: middle;\n",
       "    }\n",
       "\n",
       "    .dataframe tbody tr th {\n",
       "        vertical-align: top;\n",
       "    }\n",
       "\n",
       "    .dataframe thead th {\n",
       "        text-align: right;\n",
       "    }\n",
       "</style>\n",
       "<table border=\"1\" class=\"dataframe\">\n",
       "  <thead>\n",
       "    <tr style=\"text-align: right;\">\n",
       "      <th></th>\n",
       "      <th>sl_no</th>\n",
       "      <th>gender</th>\n",
       "      <th>ssc_p</th>\n",
       "      <th>ssc_b</th>\n",
       "      <th>hsc_p</th>\n",
       "      <th>hsc_b</th>\n",
       "      <th>hsc_s</th>\n",
       "      <th>degree_p</th>\n",
       "      <th>degree_t</th>\n",
       "      <th>workex</th>\n",
       "      <th>etest_p</th>\n",
       "      <th>specialisation</th>\n",
       "      <th>mba_p</th>\n",
       "      <th>status</th>\n",
       "      <th>salary</th>\n",
       "    </tr>\n",
       "  </thead>\n",
       "  <tbody>\n",
       "    <tr>\n",
       "      <th>0</th>\n",
       "      <td>1</td>\n",
       "      <td>0</td>\n",
       "      <td>67.00</td>\n",
       "      <td>Others</td>\n",
       "      <td>91.00</td>\n",
       "      <td>Others</td>\n",
       "      <td>Commerce</td>\n",
       "      <td>58.00</td>\n",
       "      <td>Sci&amp;Tech</td>\n",
       "      <td>No</td>\n",
       "      <td>55.0</td>\n",
       "      <td>Mkt&amp;HR</td>\n",
       "      <td>58.80</td>\n",
       "      <td>Placed</td>\n",
       "      <td>270000.0</td>\n",
       "    </tr>\n",
       "    <tr>\n",
       "      <th>1</th>\n",
       "      <td>2</td>\n",
       "      <td>0</td>\n",
       "      <td>79.33</td>\n",
       "      <td>Central</td>\n",
       "      <td>78.33</td>\n",
       "      <td>Others</td>\n",
       "      <td>Science</td>\n",
       "      <td>77.48</td>\n",
       "      <td>Sci&amp;Tech</td>\n",
       "      <td>Yes</td>\n",
       "      <td>86.5</td>\n",
       "      <td>Mkt&amp;Fin</td>\n",
       "      <td>66.28</td>\n",
       "      <td>Placed</td>\n",
       "      <td>200000.0</td>\n",
       "    </tr>\n",
       "    <tr>\n",
       "      <th>2</th>\n",
       "      <td>3</td>\n",
       "      <td>0</td>\n",
       "      <td>65.00</td>\n",
       "      <td>Central</td>\n",
       "      <td>68.00</td>\n",
       "      <td>Central</td>\n",
       "      <td>Arts</td>\n",
       "      <td>64.00</td>\n",
       "      <td>Comm&amp;Mgmt</td>\n",
       "      <td>No</td>\n",
       "      <td>75.0</td>\n",
       "      <td>Mkt&amp;Fin</td>\n",
       "      <td>57.80</td>\n",
       "      <td>Placed</td>\n",
       "      <td>250000.0</td>\n",
       "    </tr>\n",
       "    <tr>\n",
       "      <th>3</th>\n",
       "      <td>4</td>\n",
       "      <td>0</td>\n",
       "      <td>56.00</td>\n",
       "      <td>Central</td>\n",
       "      <td>52.00</td>\n",
       "      <td>Central</td>\n",
       "      <td>Science</td>\n",
       "      <td>52.00</td>\n",
       "      <td>Sci&amp;Tech</td>\n",
       "      <td>No</td>\n",
       "      <td>66.0</td>\n",
       "      <td>Mkt&amp;HR</td>\n",
       "      <td>59.43</td>\n",
       "      <td>Not Placed</td>\n",
       "      <td>NaN</td>\n",
       "    </tr>\n",
       "    <tr>\n",
       "      <th>4</th>\n",
       "      <td>5</td>\n",
       "      <td>0</td>\n",
       "      <td>85.80</td>\n",
       "      <td>Central</td>\n",
       "      <td>73.60</td>\n",
       "      <td>Central</td>\n",
       "      <td>Commerce</td>\n",
       "      <td>73.30</td>\n",
       "      <td>Comm&amp;Mgmt</td>\n",
       "      <td>No</td>\n",
       "      <td>96.8</td>\n",
       "      <td>Mkt&amp;Fin</td>\n",
       "      <td>55.50</td>\n",
       "      <td>Placed</td>\n",
       "      <td>425000.0</td>\n",
       "    </tr>\n",
       "  </tbody>\n",
       "</table>\n",
       "</div>"
      ],
      "text/plain": [
       "   sl_no  gender  ssc_p    ssc_b  hsc_p    hsc_b     hsc_s  degree_p  \\\n",
       "0      1       0  67.00   Others  91.00   Others  Commerce     58.00   \n",
       "1      2       0  79.33  Central  78.33   Others   Science     77.48   \n",
       "2      3       0  65.00  Central  68.00  Central      Arts     64.00   \n",
       "3      4       0  56.00  Central  52.00  Central   Science     52.00   \n",
       "4      5       0  85.80  Central  73.60  Central  Commerce     73.30   \n",
       "\n",
       "    degree_t workex  etest_p specialisation  mba_p      status    salary  \n",
       "0   Sci&Tech     No     55.0         Mkt&HR  58.80      Placed  270000.0  \n",
       "1   Sci&Tech    Yes     86.5        Mkt&Fin  66.28      Placed  200000.0  \n",
       "2  Comm&Mgmt     No     75.0        Mkt&Fin  57.80      Placed  250000.0  \n",
       "3   Sci&Tech     No     66.0         Mkt&HR  59.43  Not Placed       NaN  \n",
       "4  Comm&Mgmt     No     96.8        Mkt&Fin  55.50      Placed  425000.0  "
      ]
     },
     "execution_count": 180,
     "metadata": {},
     "output_type": "execute_result"
    }
   ],
   "source": [
    "# dataset overview\n",
    "df.head()"
   ]
  },
  {
   "cell_type": "code",
   "execution_count": 181,
   "metadata": {},
   "outputs": [
    {
     "data": {
      "text/plain": [
       "array(['Placed', 'Not Placed'], dtype=object)"
      ]
     },
     "execution_count": 181,
     "metadata": {},
     "output_type": "execute_result"
    }
   ],
   "source": [
    "df[\"status\"].unique()"
   ]
  },
  {
   "cell_type": "markdown",
   "metadata": {},
   "source": [
    "According to previous steps we can conclude the following:\n",
    "\n",
    "**Dataset rows:** 215\n",
    "\n",
    "**Dataset columns:** 15\n",
    "\n",
    "**Dataset categorical columns:** gender, ssc_b, hsc_b, hsc_s, degree_t, workex, specialisation\n",
    "\n",
    "**Dataset numerical columns:** sl_no, ssc_p, hsc_p, degree_p, etest_p, mba_p, salary\n",
    "\n",
    "**Target column:** status\n",
    "\n",
    "**Target categories:** Placed / Not Placed"
   ]
  },
  {
   "cell_type": "markdown",
   "metadata": {},
   "source": [
    "**2. Data Preprocessing**"
   ]
  },
  {
   "cell_type": "code",
   "execution_count": 182,
   "metadata": {},
   "outputs": [
    {
     "data": {
      "text/plain": [
       "sl_no              0\n",
       "gender             0\n",
       "ssc_p              0\n",
       "ssc_b              0\n",
       "hsc_p              0\n",
       "hsc_b              0\n",
       "hsc_s              0\n",
       "degree_p           0\n",
       "degree_t           0\n",
       "workex             0\n",
       "etest_p            0\n",
       "specialisation     0\n",
       "mba_p              0\n",
       "status             0\n",
       "salary            67\n",
       "dtype: int64"
      ]
     },
     "execution_count": 182,
     "metadata": {},
     "output_type": "execute_result"
    }
   ],
   "source": [
    "# looking for null values\n",
    "df.isna().sum()"
   ]
  },
  {
   "cell_type": "code",
   "execution_count": 183,
   "metadata": {},
   "outputs": [],
   "source": [
    "# dealing with null values\n",
    "df.fillna(value={\"salary\" : 0}, inplace = True)"
   ]
  },
  {
   "cell_type": "code",
   "execution_count": 184,
   "metadata": {},
   "outputs": [],
   "source": [
    "# removing duplicate rows\n",
    "df.drop_duplicates(keep = 'first', inplace = True)"
   ]
  },
  {
   "cell_type": "markdown",
   "metadata": {},
   "source": [
    "According to kaggle **sl_no** column is an anonymous unique id, therefore it is useless for the analysis"
   ]
  },
  {
   "cell_type": "code",
   "execution_count": 185,
   "metadata": {},
   "outputs": [],
   "source": [
    "# dropping sl_no column\n",
    "df.drop('sl_no', axis = \"columns\", inplace = True)"
   ]
  },
  {
   "cell_type": "code",
   "execution_count": 186,
   "metadata": {},
   "outputs": [],
   "source": [
    "# dropping salary column\n",
    "df.drop('salary', axis = \"columns\", inplace = True)"
   ]
  },
  {
   "cell_type": "markdown",
   "metadata": {},
   "source": [
    "**Encoding**"
   ]
  },
  {
   "cell_type": "code",
   "execution_count": 188,
   "metadata": {},
   "outputs": [
    {
     "name": "stdout",
     "output_type": "stream",
     "text": [
      "gender [0 1]\n",
      "ssc_b ['Others' 'Central']\n",
      "hsc_b ['Others' 'Central']\n",
      "hsc_s ['Commerce' 'Science' 'Arts']\n",
      "degree_t ['Sci&Tech' 'Comm&Mgmt' 'Others']\n",
      "workex ['No' 'Yes']\n",
      "specialisation ['Mkt&HR' 'Mkt&Fin']\n"
     ]
    }
   ],
   "source": [
    "# verifying unique values for categorical columns\n",
    "print (\"gender\",         df[\"gender\"].unique())\n",
    "print (\"ssc_b\",          df[\"ssc_b\"].unique())\n",
    "print (\"hsc_b\",          df[\"hsc_b\"].unique())\n",
    "print (\"hsc_s\",          df[\"hsc_s\"].unique())\n",
    "print (\"degree_t\",       df[\"degree_t\"].unique())\n",
    "print (\"workex\",         df[\"workex\"].unique())\n",
    "print (\"specialisation\", df[\"specialisation\"].unique())"
   ]
  },
  {
   "cell_type": "code",
   "execution_count": 189,
   "metadata": {},
   "outputs": [],
   "source": [
    "# applying manually encoding to target column (status)\n",
    "df['status'] = df['status'].map({'Not Placed' : 0, 'Placed' : 1}).astype(int)"
   ]
  },
  {
   "cell_type": "markdown",
   "metadata": {},
   "source": [
    "Since columns hsc_s and degree_t have more than two values then OneHotEncoding will be applied on them"
   ]
  },
  {
   "cell_type": "code",
   "execution_count": 190,
   "metadata": {},
   "outputs": [],
   "source": [
    "# applying one hot encoding to hsc_s column\n",
    "df_hsc_s = pd.get_dummies(df['hsc_s'], dtype = int, prefix = 'hsc_s', prefix_sep = '_')\n",
    "df = df.join(df_hsc_s)\n",
    "df.drop('hsc_s', axis = 1, inplace = True)"
   ]
  },
  {
   "cell_type": "code",
   "execution_count": 191,
   "metadata": {},
   "outputs": [],
   "source": [
    "# applying one hot encoding to degree_t column\n",
    "df_degree_t = pd.get_dummies(df['degree_t'], dtype = int, prefix = 'degree_t', prefix_sep = '_')\n",
    "df = df.join(df_degree_t)\n",
    "df.drop('degree_t', axis = 1, inplace = True)"
   ]
  },
  {
   "cell_type": "code",
   "execution_count": 192,
   "metadata": {},
   "outputs": [],
   "source": [
    "# splitting data into input and output variable\n",
    "X = df.drop('status', axis = 1)\n",
    "y = df['status']"
   ]
  },
  {
   "cell_type": "code",
   "execution_count": 193,
   "metadata": {},
   "outputs": [],
   "source": [
    "# splitting train and test datasets\n",
    "X_train, X_test, y_train, y_test = train_test_split(X, y, test_size=0.3, random_state=42)"
   ]
  },
  {
   "cell_type": "markdown",
   "metadata": {},
   "source": [
    "Since columns workex, ssc_b, hsc_b and specialisation have just two different values then LabelEncoder will be applied on them"
   ]
  },
  {
   "cell_type": "code",
   "execution_count": 194,
   "metadata": {},
   "outputs": [],
   "source": [
    "# applying Label encoding to both train and test datasets\n",
    "le = LabelEncoder()\n",
    "\n",
    "X_train['ssc_b'] = le.fit_transform(X_train['ssc_b'])\n",
    "X_test['ssc_b']  = le.transform(X_test['ssc_b'])\n",
    "\n",
    "X_train['hsc_b'] = le.fit_transform(X_train['hsc_b'])\n",
    "X_test['hsc_b']  = le.transform(X_test['hsc_b'])\n",
    "\n",
    "X_train['workex'] = le.fit_transform(X_train['workex'])\n",
    "X_test['workex']  = le.transform(X_test['workex'])\n",
    "\n",
    "X_train['specialisation'] = le.fit_transform(X_train['specialisation'])\n",
    "X_test['specialisation']  = le.transform(X_test['specialisation'])"
   ]
  },
  {
   "cell_type": "markdown",
   "metadata": {},
   "source": [
    "**StandardScaler**"
   ]
  },
  {
   "cell_type": "code",
   "execution_count": 195,
   "metadata": {},
   "outputs": [],
   "source": [
    "# applying fit and transform StandardScaler in train dataset\n",
    "sc = StandardScaler()\n",
    "X_train[[\"ssc_p\", \"hsc_p\", \"degree_p\", \"etest_p\", \"mba_p\"]] = sc.fit_transform(X_train[[\"ssc_p\", \"hsc_p\", \"degree_p\", \"etest_p\", \"mba_p\"]])\n"
   ]
  },
  {
   "cell_type": "code",
   "execution_count": 196,
   "metadata": {},
   "outputs": [],
   "source": [
    "# applying transform StandardScaler in test dataset\n",
    "X_test[[\"ssc_p\", \"hsc_p\", \"degree_p\", \"etest_p\", \"mba_p\"]] = sc.transform(X_test[[\"ssc_p\", \"hsc_p\", \"degree_p\", \"etest_p\", \"mba_p\"]])\n"
   ]
  },
  {
   "cell_type": "code",
   "execution_count": 197,
   "metadata": {},
   "outputs": [
    {
     "data": {
      "text/plain": [
       "(150, 16)"
      ]
     },
     "execution_count": 197,
     "metadata": {},
     "output_type": "execute_result"
    }
   ],
   "source": [
    "# verifying new train dataset shape\n",
    "X_train.shape"
   ]
  },
  {
   "cell_type": "markdown",
   "metadata": {},
   "source": [
    "**Selecting features**"
   ]
  },
  {
   "cell_type": "code",
   "execution_count": 198,
   "metadata": {},
   "outputs": [
    {
     "data": {
      "text/plain": [
       "array(['gender', 'ssc_p', 'hsc_p', 'hsc_b', 'degree_p', 'workex',\n",
       "       'specialisation', 'mba_p', 'hsc_s_Arts', 'degree_t_Comm&Mgmt'],\n",
       "      dtype=object)"
      ]
     },
     "execution_count": 198,
     "metadata": {},
     "output_type": "execute_result"
    }
   ],
   "source": [
    "# techniques for selecting features\n",
    "rfe = RFE(estimator = LogisticRegression(), n_features_to_select = 10)\n",
    "rfe.fit(X_train, y_train)\n",
    "rfe.get_feature_names_out()"
   ]
  },
  {
   "cell_type": "code",
   "execution_count": 199,
   "metadata": {},
   "outputs": [
    {
     "data": {
      "text/plain": [
       "array([1, 1, 6, 1, 1, 1, 1, 7, 1, 1, 1, 4, 5, 1, 2, 3])"
      ]
     },
     "execution_count": 199,
     "metadata": {},
     "output_type": "execute_result"
    }
   ],
   "source": [
    "rfe.ranking_"
   ]
  },
  {
   "cell_type": "code",
   "execution_count": 200,
   "metadata": {},
   "outputs": [],
   "source": [
    "# dropping columns with higher ranking_ values since the have lower importance\n",
    "X_train.drop(['ssc_b', 'etest_p', 'hsc_s_Commerce', 'hsc_s_Science', 'degree_t_Others', 'degree_t_Sci&Tech'], axis = 1, inplace = True)\n",
    "X_test.drop(['ssc_b', 'etest_p', 'hsc_s_Commerce', 'hsc_s_Science', 'degree_t_Others', 'degree_t_Sci&Tech'],  axis = 1, inplace = True)\n"
   ]
  },
  {
   "cell_type": "markdown",
   "metadata": {},
   "source": [
    "**3. Model Selection**\n",
    "\n",
    "**Logistic Regression** --> This model was selected since it is highly suitable for binary classification problems.\n",
    "\n",
    "**Support Vector Machine - SVC** --> Support Vector Machine has two models SVR and SVC, for regression and classification problems accordingly, so for this problem SVC will be used. In addition, this model is suitable for small datasets.\n",
    "\n",
    "**K-Nearest Neighbors** --> The KNN is chosen because it is one of the simplest model and has good performance when working with small datasets."
   ]
  },
  {
   "cell_type": "markdown",
   "metadata": {},
   "source": [
    "**4. Model Training**"
   ]
  },
  {
   "cell_type": "markdown",
   "metadata": {},
   "source": [
    "**Logistic Regression Model**"
   ]
  },
  {
   "cell_type": "code",
   "execution_count": 201,
   "metadata": {},
   "outputs": [],
   "source": [
    "lr = LogisticRegression()\n",
    "lr.fit(X_train, y_train)\n",
    "\n",
    "y_pred_lr = lr.predict(X_test)\n",
    "\n",
    "lr_r2s          = r2_score(y_test, y_pred_lr)\n",
    "lr_mae          = mean_absolute_error(y_test, y_pred_lr)\n",
    "lr_mse          = mean_squared_error(y_test, y_pred_lr)\n",
    "lr_rmse         = np.sqrt(mean_squared_error(y_test, y_pred_lr))\n",
    "lr_accuracy     = accuracy_score(y_test, y_pred_lr)\n",
    "lr_conf_matrix  = confusion_matrix(y_test, y_pred_lr)\n",
    "lr_class_report = classification_report(y_test, y_pred_lr)"
   ]
  },
  {
   "cell_type": "markdown",
   "metadata": {},
   "source": [
    "**Support Vector Machine Model - SVC**"
   ]
  },
  {
   "cell_type": "code",
   "execution_count": 202,
   "metadata": {},
   "outputs": [],
   "source": [
    "svc = SVC()\n",
    "svc.fit(X_train, y_train)\n",
    "\n",
    "y_pred_svc = svc.predict(X_test)\n",
    "\n",
    "svc_r2s          = r2_score(y_test, y_pred_svc)\n",
    "svc_mae          = mean_absolute_error(y_test, y_pred_svc)\n",
    "svc_mse          = mean_squared_error(y_test, y_pred_svc)\n",
    "svc_rmse         = np.sqrt(mean_squared_error(y_test, y_pred_svc))\n",
    "svc_accuracy     = accuracy_score(y_test, y_pred_svc)\n",
    "svc_conf_matrix  = confusion_matrix(y_test, y_pred_svc)\n",
    "svc_class_report = classification_report(y_test, y_pred_svc)"
   ]
  },
  {
   "cell_type": "markdown",
   "metadata": {},
   "source": [
    "**K-Nearest Neighbors**"
   ]
  },
  {
   "cell_type": "code",
   "execution_count": 203,
   "metadata": {},
   "outputs": [],
   "source": [
    "knn = KNeighborsClassifier(n_neighbors = 5)\n",
    "knn.fit(X_train, y_train)\n",
    "\n",
    "y_pred_knn = knn.predict(X_test)\n",
    "\n",
    "knn_r2s          = r2_score(y_test, y_pred_knn)\n",
    "knn_mae          = mean_absolute_error(y_test, y_pred_knn)\n",
    "knn_mse          = mean_squared_error(y_test, y_pred_knn)\n",
    "knn_rmse         = np.sqrt(mean_squared_error(y_test, y_pred_knn))\n",
    "knn_accuracy     = accuracy_score(y_test, y_pred_knn)\n",
    "knn_conf_matrix  = confusion_matrix(y_test, y_pred_knn)\n",
    "knn_class_report = classification_report(y_test, y_pred_knn)"
   ]
  },
  {
   "cell_type": "markdown",
   "metadata": {},
   "source": [
    "**5. Model Evaluation**"
   ]
  },
  {
   "cell_type": "code",
   "execution_count": 204,
   "metadata": {},
   "outputs": [
    {
     "name": "stdout",
     "output_type": "stream",
     "text": [
      "\n",
      "***********************************\n",
      "**  LOGISTIC REGRESSION RESULTS  **\n",
      "***********************************\n",
      "\n",
      "Accuracy: 0.8\n",
      "R2 score: 0.0854978354978354\n",
      "MAE: 0.2\n",
      "MSE: 0.2\n",
      "RMSE: 0.4472135954999579\n",
      "Confussion Matrix\n",
      "[[12  9]\n",
      " [ 4 40]]\n",
      "Classification Report\n",
      "              precision    recall  f1-score   support\n",
      "\n",
      "           0       0.75      0.57      0.65        21\n",
      "           1       0.82      0.91      0.86        44\n",
      "\n",
      "    accuracy                           0.80        65\n",
      "   macro avg       0.78      0.74      0.75        65\n",
      "weighted avg       0.79      0.80      0.79        65\n",
      "\n"
     ]
    },
    {
     "data": {
      "text/plain": [
       "<sklearn.metrics._plot.confusion_matrix.ConfusionMatrixDisplay at 0x167b9dd3510>"
      ]
     },
     "execution_count": 204,
     "metadata": {},
     "output_type": "execute_result"
    },
    {
     "data": {
      "image/png": "[encoded data removed]",
      "text/plain": [
       "<Figure size 640x480 with 2 Axes>"
      ]
     },
     "metadata": {},
     "output_type": "display_data"
    }
   ],
   "source": [
    "print ('''\n",
    "***********************************\n",
    "**  LOGISTIC REGRESSION RESULTS  **\n",
    "***********************************\n",
    "''')\n",
    "print ('Accuracy:', lr_accuracy)\n",
    "print ('R2 score:', lr_r2s)\n",
    "print ('MAE:',      lr_mae)\n",
    "print ('MSE:',      lr_mse)\n",
    "print ('RMSE:',     lr_rmse)\n",
    "print('Confussion Matrix')\n",
    "print(lr_conf_matrix)\n",
    "print('Classification Report')\n",
    "print(lr_class_report)\n",
    "\n",
    "cmd = ConfusionMatrixDisplay(confusion_matrix = lr_conf_matrix, display_labels = lr.classes_)\n",
    "cmd.plot()"
   ]
  },
  {
   "cell_type": "code",
   "execution_count": 205,
   "metadata": {},
   "outputs": [
    {
     "name": "stdout",
     "output_type": "stream",
     "text": [
      "\n",
      "**************************************\n",
      "**  SUPPORT VECTOR MACHINE RESULTS  **\n",
      "**************************************\n",
      "\n",
      "Accuracy: 0.7692307692307693\n",
      "R2 score: -0.05519480519480524\n",
      "MAE: 0.23076923076923078\n",
      "MSE: 0.23076923076923078\n",
      "RMSE: 0.4803844614152614\n",
      "Confussion Matrix\n",
      "[[ 9 12]\n",
      " [ 3 41]]\n",
      "Classification Report\n",
      "              precision    recall  f1-score   support\n",
      "\n",
      "           0       0.75      0.43      0.55        21\n",
      "           1       0.77      0.93      0.85        44\n",
      "\n",
      "    accuracy                           0.77        65\n",
      "   macro avg       0.76      0.68      0.70        65\n",
      "weighted avg       0.77      0.77      0.75        65\n",
      "\n"
     ]
    },
    {
     "data": {
      "text/plain": [
       "<sklearn.metrics._plot.confusion_matrix.ConfusionMatrixDisplay at 0x167b9e23410>"
      ]
     },
     "execution_count": 205,
     "metadata": {},
     "output_type": "execute_result"
    },
    {
     "data": {
      "image/png": "[encoded data removed]",
      "text/plain": [
       "<Figure size 640x480 with 2 Axes>"
      ]
     },
     "metadata": {},
     "output_type": "display_data"
    }
   ],
   "source": [
    "print ('''\n",
    "**************************************\n",
    "**  SUPPORT VECTOR MACHINE RESULTS  **\n",
    "**************************************\n",
    "''')\n",
    "print ('Accuracy:', svc_accuracy)\n",
    "print ('R2 score:', svc_r2s)\n",
    "print ('MAE:',      svc_mae)\n",
    "print ('MSE:',      svc_mse)\n",
    "print ('RMSE:',     svc_rmse)\n",
    "print('Confussion Matrix')\n",
    "print(svc_conf_matrix)\n",
    "print('Classification Report')\n",
    "print(svc_class_report)\n",
    "\n",
    "cmd = ConfusionMatrixDisplay(confusion_matrix = svc_conf_matrix, display_labels = svc.classes_)\n",
    "cmd.plot()"
   ]
  },
  {
   "cell_type": "code",
   "execution_count": 207,
   "metadata": {},
   "outputs": [
    {
     "name": "stdout",
     "output_type": "stream",
     "text": [
      "\n",
      "***************************\n",
      "**  K-NEAREST NEIGHBORS  **\n",
      "***************************\n",
      "\n",
      "Accuracy: 0.8\n",
      "R2 score: 0.0854978354978354\n",
      "MAE: 0.2\n",
      "MSE: 0.2\n",
      "RMSE: 0.4472135954999579\n",
      "Confussion Matrix\n",
      "[[10 11]\n",
      " [ 2 42]]\n",
      "Classification Report\n",
      "              precision    recall  f1-score   support\n",
      "\n",
      "           0       0.83      0.48      0.61        21\n",
      "           1       0.79      0.95      0.87        44\n",
      "\n",
      "    accuracy                           0.80        65\n",
      "   macro avg       0.81      0.72      0.74        65\n",
      "weighted avg       0.81      0.80      0.78        65\n",
      "\n"
     ]
    },
    {
     "data": {
      "text/plain": [
       "<sklearn.metrics._plot.confusion_matrix.ConfusionMatrixDisplay at 0x167bd664850>"
      ]
     },
     "execution_count": 207,
     "metadata": {},
     "output_type": "execute_result"
    },
    {
     "data": {
      "image/png": "[encoded data removed]",
      "text/plain": [
       "<Figure size 640x480 with 2 Axes>"
      ]
     },
     "metadata": {},
     "output_type": "display_data"
    }
   ],
   "source": [
    "print ('''\n",
    "***************************\n",
    "**  K-NEAREST NEIGHBORS  **\n",
    "***************************\n",
    "''')\n",
    "print ('Accuracy:', knn_accuracy)\n",
    "print ('R2 score:', knn_r2s)\n",
    "print ('MAE:',      knn_mae)\n",
    "print ('MSE:',      knn_mse)\n",
    "print ('RMSE:',     knn_rmse)\n",
    "print('Confussion Matrix')\n",
    "print(knn_conf_matrix)\n",
    "print('Classification Report')\n",
    "print(knn_class_report)\n",
    "\n",
    "cmd = ConfusionMatrixDisplay(confusion_matrix = knn_conf_matrix, display_labels = knn.classes_)\n",
    "cmd.plot()"
   ]
  },
  {
   "cell_type": "markdown",
   "metadata": {},
   "source": [
    "**Grid Search Cross-Validation**"
   ]
  },
  {
   "cell_type": "code",
   "execution_count": 208,
   "metadata": {},
   "outputs": [
    {
     "name": "stdout",
     "output_type": "stream",
     "text": [
      "Performing grid search for Logistic Regression...\n",
      "Best params: {'C': 1, 'penalty': 'l2', 'solver': 'liblinear'}\n",
      "Best scores: -0.11333333333333333\n",
      "Test MSE:    0.18461538461538463\n",
      "\n",
      "Performing grid search for Support Vector Machine...\n",
      "Best params: {'C': 1, 'gamma': 0.1, 'kernel': 'rbf'}\n",
      "Best scores: -0.13333333333333333\n",
      "Test MSE:    0.2153846153846154\n",
      "\n",
      "Performing grid search for K-Nearest Neighbors...\n",
      "Best params: {'n_neighbors': 15}\n",
      "Best scores: -0.12\n",
      "Test MSE:    0.23076923076923078\n",
      "\n",
      "The best model is LogisticRegression(C=1, solver='liblinear')\n"
     ]
    }
   ],
   "source": [
    "# defining model names\n",
    "models = {'Logistic Regression'    : LogisticRegression(),\n",
    "          'Support Vector Machine' : SVC(),\n",
    "          'K-Nearest Neighbors'    : KNeighborsClassifier()}\n",
    "\n",
    "# defining params grid\n",
    "param_grids = {'Logistic Regression'    : {'solver'     : ['newton-cg', 'lbfgs', 'liblinear', 'sag', 'saga'],\n",
    "                                           'penalty'    : ['l1', 'l2', 'elasticnet', None],\n",
    "                                           'C'          : [0.001, 0.01, 0.1, 1, 10, 100]},\n",
    "               'Support Vector Machine' : {'C'          : [0.001, 0.01, 0.1, 1, 10, 100],\n",
    "                                           'gamma'      : [1, 0.1, 0.01, 0.001, 0.0001],\n",
    "                                           'kernel'     : ['rbf']},\n",
    "               'K-Nearest Neighbors'    : {'n_neighbors': np.arange(2, 30, 1)}}\n",
    "\n",
    "best_estimators = {}\n",
    "best_scores = {}\n",
    "\n",
    "for name, model in models.items():\n",
    "    grid = GridSearchCV(estimator = model, param_grid = param_grids[name], cv = 5, scoring = 'neg_mean_squared_error')\n",
    "    grid.fit(X_train, y_train)\n",
    "    \n",
    "    best_estimators[name] = grid.best_estimator_\n",
    "    best_scores[name]     = mean_squared_error(y_test, grid.best_estimator_.predict(X_test))\n",
    "    \n",
    "    print(f'Performing grid search for {name}...')\n",
    "    print(f'Best params: {grid.best_params_}')\n",
    "    print(f'Best scores: {grid.best_score_}')\n",
    "    print(f'Test MSE:    {best_scores[name]}\\n')\n",
    "    \n",
    "# identifying the best model (which has the lowest MSE)\n",
    "best_mse = 999999999\n",
    "best_est = \"\"\n",
    "\n",
    "for name, model in models.items():\n",
    "    if best_scores[name] < best_mse:\n",
    "       best_mse = best_scores[name]\n",
    "       best_est = best_estimators[name]\n",
    "\n",
    "print (f\"The best model is {best_est}\")"
   ]
  },
  {
   "cell_type": "code",
   "execution_count": 209,
   "metadata": {},
   "outputs": [
    {
     "name": "stdout",
     "output_type": "stream",
     "text": [
      "\n",
      "***********************************\n",
      "**  LOGISTIC REGRESSION RESULTS  **\n",
      "***********************************\n",
      "\n",
      "Accuracy: 0.8153846153846154\n",
      "R2 score: 0.15584415584415579\n",
      "MAE: 0.18461538461538463\n",
      "MSE: 0.18461538461538463\n",
      "RMSE: 0.4296689244236597\n",
      "Confussion Matrix\n",
      "[[13  8]\n",
      " [ 4 40]]\n",
      "Classification Report\n",
      "              precision    recall  f1-score   support\n",
      "\n",
      "           0       0.76      0.62      0.68        21\n",
      "           1       0.83      0.91      0.87        44\n",
      "\n",
      "    accuracy                           0.82        65\n",
      "   macro avg       0.80      0.76      0.78        65\n",
      "weighted avg       0.81      0.82      0.81        65\n",
      "\n"
     ]
    },
    {
     "data": {
      "text/plain": [
       "<sklearn.metrics._plot.confusion_matrix.ConfusionMatrixDisplay at 0x167a2e553d0>"
      ]
     },
     "execution_count": 209,
     "metadata": {},
     "output_type": "execute_result"
    },
    {
     "data": {
      "image/png": "[encoded data removed]",
      "text/plain": [
       "<Figure size 640x480 with 2 Axes>"
      ]
     },
     "metadata": {},
     "output_type": "display_data"
    }
   ],
   "source": [
    "# Logistic Regression with recommended hyper-parameters\n",
    "lr = LogisticRegression(C = 1, solver = 'liblinear')\n",
    "lr.fit(X_train, y_train)\n",
    "\n",
    "y_pred_lr = lr.predict(X_test)\n",
    "\n",
    "lr_r2s          = r2_score(y_test, y_pred_lr)\n",
    "lr_mae          = mean_absolute_error(y_test, y_pred_lr)\n",
    "lr_mse          = mean_squared_error(y_test, y_pred_lr)\n",
    "lr_rmse         = np.sqrt(mean_squared_error(y_test, y_pred_lr))\n",
    "lr_accuracy     = accuracy_score(y_test, y_pred_lr)\n",
    "lr_conf_matrix  = confusion_matrix(y_test, y_pred_lr)\n",
    "lr_class_report = classification_report(y_test, y_pred_lr)\n",
    "\n",
    "print ('''\n",
    "***********************************\n",
    "**  LOGISTIC REGRESSION RESULTS  **\n",
    "***********************************\n",
    "''')\n",
    "print ('Accuracy:', lr_accuracy)\n",
    "print ('R2 score:', lr_r2s)\n",
    "print ('MAE:',      lr_mae)\n",
    "print ('MSE:',      lr_mse)\n",
    "print ('RMSE:',     lr_rmse)\n",
    "print('Confussion Matrix')\n",
    "print(lr_conf_matrix)\n",
    "print('Classification Report')\n",
    "print(lr_class_report)\n",
    "\n",
    "cmd = ConfusionMatrixDisplay(confusion_matrix = lr_conf_matrix, display_labels = lr.classes_)\n",
    "cmd.plot()"
   ]
  },
  {
   "cell_type": "markdown",
   "metadata": {},
   "source": [
    "**6. Voting Classifier**"
   ]
  },
  {
   "cell_type": "code",
   "execution_count": 210,
   "metadata": {},
   "outputs": [
    {
     "name": "stdout",
     "output_type": "stream",
     "text": [
      "\n",
      "***************************\n",
      "**  K-NEAREST NEIGHBORS  **\n",
      "***************************\n",
      "\n",
      "Accuracy: 0.7846153846153846\n",
      "R2 score: 0.015151515151515138\n",
      "MAE: 0.2153846153846154\n",
      "MSE: 0.2153846153846154\n",
      "RMSE: 0.4640954808922571\n",
      "Confussion Matrix\n",
      "[[10 11]\n",
      " [ 3 41]]\n",
      "Classification Report\n",
      "              precision    recall  f1-score   support\n",
      "\n",
      "           0       0.77      0.48      0.59        21\n",
      "           1       0.79      0.93      0.85        44\n",
      "\n",
      "    accuracy                           0.78        65\n",
      "   macro avg       0.78      0.70      0.72        65\n",
      "weighted avg       0.78      0.78      0.77        65\n",
      "\n"
     ]
    },
    {
     "data": {
      "text/plain": [
       "<sklearn.metrics._plot.confusion_matrix.ConfusionMatrixDisplay at 0x167b9d74b50>"
      ]
     },
     "execution_count": 210,
     "metadata": {},
     "output_type": "execute_result"
    },
    {
     "data": {
      "image/png": "[encoded data removed]",
      "text/plain": [
       "<Figure size 640x480 with 2 Axes>"
      ]
     },
     "metadata": {},
     "output_type": "display_data"
    }
   ],
   "source": [
    "vc = VotingClassifier(estimators=[('LogisticRegression', lr ),\n",
    "                                  ('SVM',                svc),\n",
    "                                  ('KNN',                knn)], voting='hard')\n",
    "vc.fit(X_train, y_train)\n",
    "\n",
    "y_pred_vc = vc.predict(X_test)\n",
    "\n",
    "vc_r2s          = r2_score(y_test, y_pred_vc)\n",
    "vc_mae          = mean_absolute_error(y_test, y_pred_vc)\n",
    "vc_mse          = mean_squared_error(y_test, y_pred_vc)\n",
    "vc_rmse         = np.sqrt(mean_squared_error(y_test, y_pred_vc))\n",
    "vc_accuracy     = accuracy_score(y_test, y_pred_vc)\n",
    "vc_conf_matrix  = confusion_matrix(y_test, y_pred_vc)\n",
    "vc_class_report = classification_report(y_test, y_pred_vc)\n",
    "\n",
    "print ('''\n",
    "***************************\n",
    "**  K-NEAREST NEIGHBORS  **\n",
    "***************************\n",
    "''')\n",
    "print ('Accuracy:', vc_accuracy)\n",
    "print ('R2 score:', vc_r2s)\n",
    "print ('MAE:',      vc_mae)\n",
    "print ('MSE:',      vc_mse)\n",
    "print ('RMSE:',     vc_rmse)\n",
    "print('Confussion Matrix')\n",
    "print(vc_conf_matrix)\n",
    "print('Classification Report')\n",
    "print(vc_class_report)\n",
    "\n",
    "cmd = ConfusionMatrixDisplay(confusion_matrix = vc_conf_matrix, display_labels = vc.classes_)\n",
    "cmd.plot()"
   ]
  },
  {
   "cell_type": "markdown",
   "metadata": {},
   "source": [
    "**Generating the best model**"
   ]
  },
  {
   "cell_type": "code",
   "execution_count": 213,
   "metadata": {},
   "outputs": [
    {
     "data": {
      "text/plain": [
       "['model.pkl']"
      ]
     },
     "execution_count": 213,
     "metadata": {},
     "output_type": "execute_result"
    }
   ],
   "source": [
    "# saving the best model\n",
    "joblib.dump(lr, \"model.pkl\")"
   ]
  }
 ],
 "metadata": {
  "kernelspec": {
   "display_name": "Python 3",
   "language": "python",
   "name": "python3"
  },
  "language_info": {
   "codemirror_mode": {
    "name": "ipython",
    "version": 3
   },
   "file_extension": ".py",
   "mimetype": "text/x-python",
   "name": "python",
   "nbconvert_exporter": "python",
   "pygments_lexer": "ipython3",
   "version": "3.11.3"
  }
 },
 "nbformat": 4,
 "nbformat_minor": 2
}
